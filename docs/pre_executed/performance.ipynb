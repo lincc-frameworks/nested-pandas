{
 "cells": [
  {
   "cell_type": "markdown",
   "metadata": {},
   "source": [
    "# Performance Impact of `nested-pandas`\n",
    "\n",
    "For use-cases involving nesting data, `nested-pandas` can offer significant speedups compared to using the native `pandas` API. Below is a brief example workflow comparison between `pandas` and `nested-pandas`, where this example workflow calculates the amplitude of photometric fluxes after a few filtering steps."
   ]
  },
  {
   "cell_type": "code",
   "execution_count": null,
   "metadata": {},
   "outputs": [],
   "source": [
    "import nested_pandas as npd\n",
    "import pandas as pd\n",
    "import light_curve as licu\n",
    "import numpy as np\n",
    "\n",
    "from nested_pandas.utils import count_nested"
   ]
  },
  {
   "cell_type": "markdown",
   "metadata": {},
   "source": [
    "## Pandas"
   ]
  },
  {
   "cell_type": "code",
   "execution_count": 5,
   "metadata": {},
   "outputs": [
    {
     "name": "stdout",
     "output_type": "stream",
     "text": [
      "498 ms ± 3.13 ms per loop (mean ± std. dev. of 7 runs, 1 loop each)\n"
     ]
    }
   ],
   "source": [
    "%%timeit\n",
    "\n",
    "# Read data\n",
    "object_df = pd.read_parquet(\"objects.parquet\")\n",
    "source_df = pd.read_parquet(\"ztf_sources.parquet\")\n",
    "\n",
    "# Filter on object\n",
    "filtered_object = object_df.query(\"ra > 10.0\")\n",
    "# sync object to source --removes any index values of source not found in object\n",
    "filtered_source = filtered_object[[]].join(source_df, how=\"left\")\n",
    "\n",
    "# Count number of observations per photometric band and add it to the object table\n",
    "band_counts = (\n",
    "    source_df.groupby(level=0)\n",
    "    .apply(lambda x: x[[\"band\"]].value_counts().reset_index())\n",
    "    .pivot_table(values=\"count\", index=\"index\", columns=\"band\", aggfunc=\"sum\")\n",
    ")\n",
    "filtered_object = filtered_object.join(band_counts[[\"g\", \"r\"]])\n",
    "\n",
    "# Filter on our nobs\n",
    "filtered_object = filtered_object.query(\"g > 520\")\n",
    "filtered_source = filtered_object[[]].join(source_df, how=\"left\")\n",
    "\n",
    "# Calculate Amplitude\n",
    "amplitude = licu.Amplitude()\n",
    "filtered_source.groupby(level=0).apply(lambda x: amplitude(np.array(x.mjd), np.array(x.flux)))"
   ]
  },
  {
   "cell_type": "markdown",
   "metadata": {},
   "source": [
    "## Nested-Pandas"
   ]
  },
  {
   "cell_type": "code",
   "execution_count": null,
   "metadata": {},
   "outputs": [
    {
     "name": "stdout",
     "output_type": "stream",
     "text": [
      "228 ms ± 2.81 ms per loop (mean ± std. dev. of 7 runs, 1 loop each)\n"
     ]
    }
   ],
   "source": [
    "%%timeit\n",
    "\n",
    "# Read in parquet data\n",
    "# nesting sources into objects\n",
    "nf = npd.read_parquet(\"objects.parquet\")\n",
    "nf = nf.add_nested(npd.read_parquet(\"ztf_sources.parquet\"), \"ztf_sources\")\n",
    "\n",
    "# Filter on object\n",
    "nf = nf.query(\"ra > 10.0\")\n",
    "\n",
    "# Count number of observations per photometric band and add it as a column\n",
    "nf = count_nested(nf, \"ztf_sources\", by=\"band\", join=True)  # use an existing utility\n",
    "\n",
    "# Filter on our nobs\n",
    "nf = nf.query(\"n_ztf_sources_g > 520\")\n",
    "\n",
    "# Calculate Amplitude\n",
    "amplitude = licu.Amplitude()\n",
    "nf.reduce(amplitude, \"ztf_sources.mjd\", \"ztf_sources.flux\")"
   ]
  }
 ],
 "metadata": {
  "kernelspec": {
   "display_name": "lsdb",
   "language": "python",
   "name": "python3"
  },
  "language_info": {
   "codemirror_mode": {
    "name": "ipython",
    "version": 3
   },
   "file_extension": ".py",
   "mimetype": "text/x-python",
   "name": "python",
   "nbconvert_exporter": "python",
   "pygments_lexer": "ipython3",
   "version": "3.11.11"
  }
 },
 "nbformat": 4,
 "nbformat_minor": 2
}
