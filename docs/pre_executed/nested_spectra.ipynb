{
 "cells": [
  {
   "cell_type": "markdown",
   "metadata": {},
   "source": [
    "# Using Nested-Pandas with Astronomical Spectra"
   ]
  },
  {
   "cell_type": "markdown",
   "metadata": {},
   "source": [
    "In Astronomy, a spectrum is a measurement (or combination of measurements) of an object that shows the intensity of light emitted over a range of energies. In this tutorial, we'll walk through a simple example of working with spectra from the Sloan Digital Sky Survey (SDSS), in particular showing how it can be represented as a `NestedFrame`."
   ]
  },
  {
   "cell_type": "markdown",
   "metadata": {},
   "source": [
    "First, we'll use `astroquery` and `astropy` to download a handful of spectra from SDSS:"
   ]
  },
  {
   "cell_type": "code",
   "execution_count": 3,
   "metadata": {},
   "outputs": [
    {
     "data": {
      "text/html": [
       "<table border=\"1\" class=\"dataframe\">\n",
       "  <thead>\n",
       "    <tr style=\"text-align: right;\">\n",
       "      <th></th>\n",
       "      <th>ra</th>\n",
       "      <th>dec</th>\n",
       "      <th>objid</th>\n",
       "      <th>run</th>\n",
       "      <th>rerun</th>\n",
       "      <th>camcol</th>\n",
       "      <th>field</th>\n",
       "      <th>z</th>\n",
       "      <th>plate</th>\n",
       "      <th>mjd</th>\n",
       "      <th>fiberID</th>\n",
       "      <th>specobjid</th>\n",
       "      <th>run2d</th>\n",
       "    </tr>\n",
       "  </thead>\n",
       "  <tbody>\n",
       "    <tr>\n",
       "      <th>0</th>\n",
       "      <td>2.076662</td>\n",
       "      <td>14.843455</td>\n",
       "      <td>1237652943176204410</td>\n",
       "      <td>1739</td>\n",
       "      <td>301</td>\n",
       "      <td>3</td>\n",
       "      <td>316</td>\n",
       "      <td>-0.000464</td>\n",
       "      <td>6112</td>\n",
       "      <td>56191</td>\n",
       "      <td>560</td>\n",
       "      <td>6881654266119084032</td>\n",
       "      <td>v5_13_2</td>\n",
       "    </tr>\n",
       "    <tr>\n",
       "      <th>1</th>\n",
       "      <td>2.023446</td>\n",
       "      <td>14.839824</td>\n",
       "      <td>1237652943176138868</td>\n",
       "      <td>1739</td>\n",
       "      <td>301</td>\n",
       "      <td>3</td>\n",
       "      <td>315</td>\n",
       "      <td>0.045591</td>\n",
       "      <td>751</td>\n",
       "      <td>52251</td>\n",
       "      <td>160</td>\n",
       "      <td>845594848269461504</td>\n",
       "      <td>26</td>\n",
       "    </tr>\n",
       "    <tr>\n",
       "      <th>2</th>\n",
       "      <td>2.016424</td>\n",
       "      <td>14.810989</td>\n",
       "      <td>1237652943176139005</td>\n",
       "      <td>1739</td>\n",
       "      <td>301</td>\n",
       "      <td>3</td>\n",
       "      <td>315</td>\n",
       "      <td>0.113535</td>\n",
       "      <td>752</td>\n",
       "      <td>52251</td>\n",
       "      <td>302</td>\n",
       "      <td>846759780839090176</td>\n",
       "      <td>26</td>\n",
       "    </tr>\n",
       "  </tbody>\n",
       "</table>\n",
       "<p>3 rows × 13 columns</p>"
      ],
      "text/plain": [
       "         ra        dec                objid   run  rerun  camcol  field  \\\n",
       "0  2.076662  14.843455  1237652943176204410  1739    301       3    316   \n",
       "1  2.023446  14.839824  1237652943176138868  1739    301       3    315   \n",
       "2  2.016424  14.810989  1237652943176139005  1739    301       3    315   \n",
       "\n",
       "          z  plate    mjd  fiberID            specobjid    run2d  \n",
       "0 -0.000464   6112  56191      560  6881654266119084032  v5_13_2  \n",
       "1  0.045591    751  52251      160   845594848269461504       26  \n",
       "2  0.113535    752  52251      302   846759780839090176       26  "
      ]
     },
     "execution_count": 3,
     "metadata": {},
     "output_type": "execute_result"
    }
   ],
   "source": [
    "from astroquery.sdss import SDSS\n",
    "from astropy import coordinates as coords\n",
    "import astropy.units as u\n",
    "import nested_pandas as npd\n",
    "\n",
    "# Query SDSS for a set of objects with spectra\n",
    "pos = coords.SkyCoord(\"0h8m10.63s +14d50m23.3s\", frame=\"icrs\")\n",
    "xid = SDSS.query_region(pos, radius=3 * u.arcmin, spectro=True)\n",
    "xid_ndf = npd.NestedFrame(xid.to_pandas())\n",
    "xid_ndf"
   ]
  },
  {
   "cell_type": "markdown",
   "metadata": {},
   "source": [
    "This initial query returns a set of objects with spectra (as specified by the `spectro=True` flag). To actually retrieve the spectra, we can do the following:"
   ]
  },
  {
   "cell_type": "code",
   "execution_count": 4,
   "metadata": {},
   "outputs": [
    {
     "data": {
      "text/plain": [
       "[[<astropy.io.fits.hdu.image.PrimaryHDU object at 0x119f595e0>, <astropy.io.fits.hdu.table.BinTableHDU object at 0x11bc36600>, <astropy.io.fits.hdu.table.BinTableHDU object at 0x11bc74aa0>, <astropy.io.fits.hdu.table.BinTableHDU object at 0x11bc77d40>, <astropy.io.fits.hdu.table.BinTableHDU object at 0x11bc36e40>, <astropy.io.fits.hdu.table.BinTableHDU object at 0x11bc17320>, <astropy.io.fits.hdu.table.BinTableHDU object at 0x11bc92e70>, <astropy.io.fits.hdu.table.BinTableHDU object at 0x11bc938c0>, <astropy.io.fits.hdu.table.BinTableHDU object at 0x11bcbe1b0>, <astropy.io.fits.hdu.table.BinTableHDU object at 0x11bcd5d60>, <astropy.io.fits.hdu.table.BinTableHDU object at 0x11bce98e0>, <astropy.io.fits.hdu.table.BinTableHDU object at 0x11bd04650>],\n",
       " [<astropy.io.fits.hdu.image.PrimaryHDU object at 0x11bbbe090>, <astropy.io.fits.hdu.table.BinTableHDU object at 0x11bd06390>, <astropy.io.fits.hdu.table.BinTableHDU object at 0x11bd15b20>, <astropy.io.fits.hdu.table.BinTableHDU object at 0x11bd28ce0>, <astropy.io.fits.hdu.table.BinTableHDU object at 0x11bd2b320>, <astropy.io.fits.hdu.table.BinTableHDU object at 0x11bd424e0>, <astropy.io.fits.hdu.table.BinTableHDU object at 0x11bd51700>, <astropy.io.fits.hdu.table.BinTableHDU object at 0x11bd688f0>, <astropy.io.fits.hdu.table.BinTableHDU object at 0x11bd6bad0>, <astropy.io.fits.hdu.table.BinTableHDU object at 0x11bd7ecc0>],\n",
       " [<astropy.io.fits.hdu.image.PrimaryHDU object at 0x11bc34560>, <astropy.io.fits.hdu.table.BinTableHDU object at 0x11bd907a0>, <astropy.io.fits.hdu.table.BinTableHDU object at 0x11bda8080>, <astropy.io.fits.hdu.table.BinTableHDU object at 0x11bdab230>, <astropy.io.fits.hdu.table.BinTableHDU object at 0x11bdb9850>, <astropy.io.fits.hdu.table.BinTableHDU object at 0x11bdccaa0>, <astropy.io.fits.hdu.table.BinTableHDU object at 0x11bdcfcb0>, <astropy.io.fits.hdu.table.BinTableHDU object at 0x11bde6e40>, <astropy.io.fits.hdu.table.BinTableHDU object at 0x11bdf9fd0>, <astropy.io.fits.hdu.table.BinTableHDU object at 0x11be0d220>]]"
      ]
     },
     "execution_count": 4,
     "metadata": {},
     "output_type": "execute_result"
    }
   ],
   "source": [
    "# Query SDSS for the corresponding spectra\n",
    "SDSS.clear_cache()\n",
    "sp = SDSS.get_spectra(matches=xid)\n",
    "sp"
   ]
  },
  {
   "cell_type": "markdown",
   "metadata": {},
   "source": [
    "The result is a list of FITS formatted data. From this point there are a few ways that we could move towards a nested-pandas representation. The most straightforward is to build a \"flat\" spectra table from all the objects, where we gather the information from each spectrum into a single combined table."
   ]
  },
  {
   "cell_type": "code",
   "execution_count": 5,
   "metadata": {},
   "outputs": [
    {
     "name": "stderr",
     "output_type": "stream",
     "text": [
      "/var/folders/lc/dws63_cs5gz5mf8s869hjpx40000gn/T/ipykernel_21256/2955152026.py:14: RuntimeWarning: divide by zero encountered in divide\n",
      "  err = np.append(err, 1 / hdu[\"COADD\"].data.ivar * 1e-17)  # * flux.unit\n"
     ]
    },
    {
     "data": {
      "text/html": [
       "<table border=\"1\" class=\"dataframe\">\n",
       "  <thead>\n",
       "    <tr style=\"text-align: right;\">\n",
       "      <th></th>\n",
       "      <th>wave</th>\n",
       "      <th>flux</th>\n",
       "      <th>err</th>\n",
       "    </tr>\n",
       "  </thead>\n",
       "  <tbody>\n",
       "    <tr>\n",
       "      <th>0</th>\n",
       "      <td>3606.617188</td>\n",
       "      <td>1.699629e-16</td>\n",
       "      <td>9.050196e-17</td>\n",
       "    </tr>\n",
       "    <tr>\n",
       "      <th>0</th>\n",
       "      <td>3607.447021</td>\n",
       "      <td>-4.092098e-17</td>\n",
       "      <td>7.294453e-17</td>\n",
       "    </tr>\n",
       "    <tr>\n",
       "      <th>...</th>\n",
       "      <td>...</td>\n",
       "      <td>...</td>\n",
       "      <td>...</td>\n",
       "    </tr>\n",
       "    <tr>\n",
       "      <th>2</th>\n",
       "      <td>9185.439453</td>\n",
       "      <td>1.398144e-16</td>\n",
       "      <td>1.269789e-17</td>\n",
       "    </tr>\n",
       "    <tr>\n",
       "      <th>2</th>\n",
       "      <td>9187.557617</td>\n",
       "      <td>1.487952e-16</td>\n",
       "      <td>1.259023e-17</td>\n",
       "    </tr>\n",
       "  </tbody>\n",
       "</table>\n",
       "<p>12245 rows × 3 columns</p>"
      ],
      "text/plain": [
       "           wave          flux           err\n",
       "0   3606.617188  1.699629e-16  9.050196e-17\n",
       "0   3607.447021 -4.092098e-17  7.294453e-17\n",
       "..          ...           ...           ...\n",
       "2   9185.439453  1.398144e-16  1.269789e-17\n",
       "2   9187.557617  1.487952e-16  1.259023e-17\n",
       "\n",
       "[12245 rows x 3 columns]"
      ]
     },
     "execution_count": 5,
     "metadata": {},
     "output_type": "execute_result"
    }
   ],
   "source": [
    "import numpy as np\n",
    "\n",
    "# Build a flat spectrum dataframe\n",
    "\n",
    "# Initialize some empty arrays to hold the flat data\n",
    "wave = np.array([])\n",
    "flux = np.array([])\n",
    "err = np.array([])\n",
    "index = np.array([])\n",
    "# Loop over each spectrum, adding its data to the arrays\n",
    "for i, hdu in enumerate(sp):\n",
    "    wave = np.append(wave, 10 ** hdu[\"COADD\"].data.loglam)  # * u.angstrom\n",
    "    flux = np.append(flux, hdu[\"COADD\"].data.flux * 1e-17)  # * u.erg/u.second/u.centimeter**2/u.angstrom\n",
    "    err = np.append(err, 1 / hdu[\"COADD\"].data.ivar * 1e-17)  # * flux.unit\n",
    "\n",
    "    # We'll need to set an index to keep track of which rows correspond\n",
    "    # to which object\n",
    "    index = np.append(index, i * np.ones(len(hdu[\"COADD\"].data.loglam)))\n",
    "\n",
    "# Build a NestedFrame from the arrays\n",
    "flat_spec = npd.NestedFrame(dict(wave=wave, flux=flux, err=err), index=index.astype(np.int8))\n",
    "flat_spec"
   ]
  },
  {
   "cell_type": "markdown",
   "metadata": {},
   "source": [
    "From here, we can simply nest our flat table within our original query result:"
   ]
  },
  {
   "cell_type": "code",
   "execution_count": 8,
   "metadata": {},
   "outputs": [
    {
     "data": {
      "text/html": [
       "<style type=\"text/css\">\n",
       "</style>\n",
       "<table id=\"T_0e46b\">\n",
       "  <thead>\n",
       "    <tr>\n",
       "      <th class=\"blank level0\" >&nbsp;</th>\n",
       "      <th id=\"T_0e46b_level0_col0\" class=\"col_heading level0 col0\" >ra</th>\n",
       "      <th id=\"T_0e46b_level0_col1\" class=\"col_heading level0 col1\" >dec</th>\n",
       "      <th id=\"T_0e46b_level0_col2\" class=\"col_heading level0 col2\" >run</th>\n",
       "      <th id=\"T_0e46b_level0_col3\" class=\"col_heading level0 col3\" >rerun</th>\n",
       "      <th id=\"T_0e46b_level0_col4\" class=\"col_heading level0 col4\" >camcol</th>\n",
       "      <th id=\"T_0e46b_level0_col5\" class=\"col_heading level0 col5\" >field</th>\n",
       "      <th id=\"T_0e46b_level0_col6\" class=\"col_heading level0 col6\" >z</th>\n",
       "      <th id=\"T_0e46b_level0_col7\" class=\"col_heading level0 col7\" >plate</th>\n",
       "      <th id=\"T_0e46b_level0_col8\" class=\"col_heading level0 col8\" >mjd</th>\n",
       "      <th id=\"T_0e46b_level0_col9\" class=\"col_heading level0 col9\" >fiberID</th>\n",
       "      <th id=\"T_0e46b_level0_col10\" class=\"col_heading level0 col10\" >specobjid</th>\n",
       "      <th id=\"T_0e46b_level0_col11\" class=\"col_heading level0 col11\" >run2d</th>\n",
       "      <th id=\"T_0e46b_level0_col12\" class=\"col_heading level0 col12\" >coadd_spectrum</th>\n",
       "    </tr>\n",
       "  </thead>\n",
       "  <tbody>\n",
       "    <tr>\n",
       "      <th id=\"T_0e46b_level0_row0\" class=\"row_heading level0 row0\" >1237652943176204410</th>\n",
       "      <td id=\"T_0e46b_row0_col0\" class=\"data row0 col0\" >2.076662</td>\n",
       "      <td id=\"T_0e46b_row0_col1\" class=\"data row0 col1\" >14.843455</td>\n",
       "      <td id=\"T_0e46b_row0_col2\" class=\"data row0 col2\" >1739</td>\n",
       "      <td id=\"T_0e46b_row0_col3\" class=\"data row0 col3\" >301</td>\n",
       "      <td id=\"T_0e46b_row0_col4\" class=\"data row0 col4\" >3</td>\n",
       "      <td id=\"T_0e46b_row0_col5\" class=\"data row0 col5\" >316</td>\n",
       "      <td id=\"T_0e46b_row0_col6\" class=\"data row0 col6\" >-0.000464</td>\n",
       "      <td id=\"T_0e46b_row0_col7\" class=\"data row0 col7\" >6112</td>\n",
       "      <td id=\"T_0e46b_row0_col8\" class=\"data row0 col8\" >56191</td>\n",
       "      <td id=\"T_0e46b_row0_col9\" class=\"data row0 col9\" >560</td>\n",
       "      <td id=\"T_0e46b_row0_col10\" class=\"data row0 col10\" >6881654266119084032</td>\n",
       "      <td id=\"T_0e46b_row0_col11\" class=\"data row0 col11\" >v5_13_2</td>\n",
       "      <td id=\"T_0e46b_row0_col12\" class=\"data row0 col12\" ><table border=\"1\" class=\"dataframe\">\n",
       "  <thead>\n",
       "    <tr style=\"text-align: right;\">\n",
       "      <th>wave</th>\n",
       "      <th>flux</th>\n",
       "      <th>err</th>\n",
       "    </tr>\n",
       "  </thead>\n",
       "  <tbody>\n",
       "    <tr>\n",
       "      <td>3606.617188</td>\n",
       "      <td>0.0</td>\n",
       "      <td>0.0</td>\n",
       "    </tr>\n",
       "    <tr>\n",
       "      <td><i>+4594 rows</i></td>\n",
       "      <td>...</td>\n",
       "      <td>...</td>\n",
       "    </tr>\n",
       "  </tbody>\n",
       "</table></td>\n",
       "    </tr>\n",
       "    <tr>\n",
       "      <th id=\"T_0e46b_level0_row1\" class=\"row_heading level0 row1\" >1237652943176138868</th>\n",
       "      <td id=\"T_0e46b_row1_col0\" class=\"data row1 col0\" >2.023446</td>\n",
       "      <td id=\"T_0e46b_row1_col1\" class=\"data row1 col1\" >14.839824</td>\n",
       "      <td id=\"T_0e46b_row1_col2\" class=\"data row1 col2\" >1739</td>\n",
       "      <td id=\"T_0e46b_row1_col3\" class=\"data row1 col3\" >301</td>\n",
       "      <td id=\"T_0e46b_row1_col4\" class=\"data row1 col4\" >3</td>\n",
       "      <td id=\"T_0e46b_row1_col5\" class=\"data row1 col5\" >315</td>\n",
       "      <td id=\"T_0e46b_row1_col6\" class=\"data row1 col6\" >0.045591</td>\n",
       "      <td id=\"T_0e46b_row1_col7\" class=\"data row1 col7\" >751</td>\n",
       "      <td id=\"T_0e46b_row1_col8\" class=\"data row1 col8\" >52251</td>\n",
       "      <td id=\"T_0e46b_row1_col9\" class=\"data row1 col9\" >160</td>\n",
       "      <td id=\"T_0e46b_row1_col10\" class=\"data row1 col10\" >845594848269461504</td>\n",
       "      <td id=\"T_0e46b_row1_col11\" class=\"data row1 col11\" >26</td>\n",
       "      <td id=\"T_0e46b_row1_col12\" class=\"data row1 col12\" ><table border=\"1\" class=\"dataframe\">\n",
       "  <thead>\n",
       "    <tr style=\"text-align: right;\">\n",
       "      <th>wave</th>\n",
       "      <th>flux</th>\n",
       "      <th>err</th>\n",
       "    </tr>\n",
       "  </thead>\n",
       "  <tbody>\n",
       "    <tr>\n",
       "      <td>3799.268555</td>\n",
       "      <td>0.0</td>\n",
       "      <td>0.0</td>\n",
       "    </tr>\n",
       "    <tr>\n",
       "      <td><i>+3840 rows</i></td>\n",
       "      <td>...</td>\n",
       "      <td>...</td>\n",
       "    </tr>\n",
       "  </tbody>\n",
       "</table></td>\n",
       "    </tr>\n",
       "    <tr>\n",
       "      <th id=\"T_0e46b_level0_row2\" class=\"row_heading level0 row2\" >1237652943176139005</th>\n",
       "      <td id=\"T_0e46b_row2_col0\" class=\"data row2 col0\" >2.016424</td>\n",
       "      <td id=\"T_0e46b_row2_col1\" class=\"data row2 col1\" >14.810989</td>\n",
       "      <td id=\"T_0e46b_row2_col2\" class=\"data row2 col2\" >1739</td>\n",
       "      <td id=\"T_0e46b_row2_col3\" class=\"data row2 col3\" >301</td>\n",
       "      <td id=\"T_0e46b_row2_col4\" class=\"data row2 col4\" >3</td>\n",
       "      <td id=\"T_0e46b_row2_col5\" class=\"data row2 col5\" >315</td>\n",
       "      <td id=\"T_0e46b_row2_col6\" class=\"data row2 col6\" >0.113535</td>\n",
       "      <td id=\"T_0e46b_row2_col7\" class=\"data row2 col7\" >752</td>\n",
       "      <td id=\"T_0e46b_row2_col8\" class=\"data row2 col8\" >52251</td>\n",
       "      <td id=\"T_0e46b_row2_col9\" class=\"data row2 col9\" >302</td>\n",
       "      <td id=\"T_0e46b_row2_col10\" class=\"data row2 col10\" >846759780839090176</td>\n",
       "      <td id=\"T_0e46b_row2_col11\" class=\"data row2 col11\" >26</td>\n",
       "      <td id=\"T_0e46b_row2_col12\" class=\"data row2 col12\" ><table border=\"1\" class=\"dataframe\">\n",
       "  <thead>\n",
       "    <tr style=\"text-align: right;\">\n",
       "      <th>wave</th>\n",
       "      <th>flux</th>\n",
       "      <th>err</th>\n",
       "    </tr>\n",
       "  </thead>\n",
       "  <tbody>\n",
       "    <tr>\n",
       "      <td>3822.962891</td>\n",
       "      <td>0.0</td>\n",
       "      <td>0.0</td>\n",
       "    </tr>\n",
       "    <tr>\n",
       "      <td><i>+3808 rows</i></td>\n",
       "      <td>...</td>\n",
       "      <td>...</td>\n",
       "    </tr>\n",
       "  </tbody>\n",
       "</table></td>\n",
       "    </tr>\n",
       "  </tbody>\n",
       "</table>\n",
       "3 rows x 13 columns"
      ],
      "text/plain": [
       "                           ra        dec   run  rerun  camcol  field  \\\n",
       "objid                                                                  \n",
       "1237652943176204410  2.076662  14.843455  1739    301       3    316   \n",
       "1237652943176138868  2.023446  14.839824  1739    301       3    315   \n",
       "1237652943176139005  2.016424  14.810989  1739    301       3    315   \n",
       "\n",
       "                            z  plate    mjd  fiberID            specobjid  \\\n",
       "objid                                                                       \n",
       "1237652943176204410 -0.000464   6112  56191      560  6881654266119084032   \n",
       "1237652943176138868  0.045591    751  52251      160   845594848269461504   \n",
       "1237652943176139005  0.113535    752  52251      302   846759780839090176   \n",
       "\n",
       "                       run2d  \\\n",
       "objid                          \n",
       "1237652943176204410  v5_13_2   \n",
       "1237652943176138868       26   \n",
       "1237652943176139005       26   \n",
       "\n",
       "                                                        coadd_spectrum  \n",
       "objid                                                                   \n",
       "1237652943176204410  [{wave: 3606.617188, flux: 1.699629e-16, err: ...  \n",
       "1237652943176138868  [{wave: 3799.268555, flux: 3.059662e-16, err: ...  \n",
       "1237652943176139005  [{wave: 3822.962891, flux: 6.760442e-17, err: ...  "
      ]
     },
     "execution_count": 8,
     "metadata": {},
     "output_type": "execute_result"
    }
   ],
   "source": [
    "spec_ndf = xid_ndf.add_nested(flat_spec, \"coadd_spectrum\").set_index(\"objid\")\n",
    "spec_ndf"
   ]
  },
  {
   "cell_type": "markdown",
   "metadata": {},
   "source": [
    "And we can see that each object now has the `coadd_spectrum` nested column with the full spectrum available."
   ]
  },
  {
   "cell_type": "code",
   "execution_count": 9,
   "metadata": {},
   "outputs": [
    {
     "data": {
      "text/html": [
       "<div>\n",
       "<style scoped>\n",
       "    .dataframe tbody tr th:only-of-type {\n",
       "        vertical-align: middle;\n",
       "    }\n",
       "\n",
       "    .dataframe tbody tr th {\n",
       "        vertical-align: top;\n",
       "    }\n",
       "\n",
       "    .dataframe thead th {\n",
       "        text-align: right;\n",
       "    }\n",
       "</style>\n",
       "<table border=\"1\" class=\"dataframe\">\n",
       "  <thead>\n",
       "    <tr style=\"text-align: right;\">\n",
       "      <th></th>\n",
       "      <th>wave</th>\n",
       "      <th>flux</th>\n",
       "      <th>err</th>\n",
       "    </tr>\n",
       "  </thead>\n",
       "  <tbody>\n",
       "    <tr>\n",
       "      <th>0</th>\n",
       "      <td>3799.268555</td>\n",
       "      <td>3.059662e-16</td>\n",
       "      <td>1.552601e-16</td>\n",
       "    </tr>\n",
       "    <tr>\n",
       "      <th>1</th>\n",
       "      <td>3800.142578</td>\n",
       "      <td>3.324573e-16</td>\n",
       "      <td>inf</td>\n",
       "    </tr>\n",
       "    <tr>\n",
       "      <th>...</th>\n",
       "      <td>...</td>\n",
       "      <td>...</td>\n",
       "      <td>...</td>\n",
       "    </tr>\n",
       "    <tr>\n",
       "      <th>3839</th>\n",
       "      <td>9196.020508</td>\n",
       "      <td>5.023617e-16</td>\n",
       "      <td>3.563417e-17</td>\n",
       "    </tr>\n",
       "    <tr>\n",
       "      <th>3840</th>\n",
       "      <td>9198.140625</td>\n",
       "      <td>5.170272e-16</td>\n",
       "      <td>5.481493e-17</td>\n",
       "    </tr>\n",
       "  </tbody>\n",
       "</table>\n",
       "<p>3841 rows × 3 columns</p>\n",
       "</div>"
      ],
      "text/plain": [
       "             wave          flux           err\n",
       "0     3799.268555  3.059662e-16  1.552601e-16\n",
       "1     3800.142578  3.324573e-16           inf\n",
       "...           ...           ...           ...\n",
       "3839  9196.020508  5.023617e-16  3.563417e-17\n",
       "3840  9198.140625  5.170272e-16  5.481493e-17\n",
       "\n",
       "[3841 rows x 3 columns]"
      ]
     },
     "execution_count": 9,
     "metadata": {},
     "output_type": "execute_result"
    }
   ],
   "source": [
    "# Look at one of the spectra\n",
    "spec_ndf.iloc[1].coadd_spectrum"
   ]
  },
  {
   "cell_type": "markdown",
   "metadata": {},
   "source": [
    "We now have our spectra nested, and can proceed to do any filtering and analysis as normal within nested-pandas.\n"
   ]
  },
  {
   "cell_type": "code",
   "execution_count": 10,
   "metadata": {},
   "outputs": [
    {
     "data": {
      "text/plain": [
       "Text(0, 0.5, 'Flux ($ergs/s/cm^2/Å$)')"
      ]
     },
     "execution_count": 10,
     "metadata": {},
     "output_type": "execute_result"
    },
    {
     "data": {
      "image/png": "[encoded data removed]",
      "text/plain": [
       "<Figure size 640x480 with 1 Axes>"
      ]
     },
     "metadata": {},
     "output_type": "display_data"
    }
   ],
   "source": [
    "import matplotlib.pyplot as plt\n",
    "\n",
    "# Plot a spectrum\n",
    "spec = spec_ndf.iloc[1].coadd_spectrum\n",
    "\n",
    "plt.plot(spec[\"wave\"], spec[\"flux\"])\n",
    "plt.xlabel(\"Wavelength (Å)\")\n",
    "plt.ylabel(r\"Flux ($ergs/s/cm^2/Å$)\")"
   ]
  }
 ],
 "metadata": {
  "kernelspec": {
   "display_name": "lsdb",
   "language": "python",
   "name": "python3"
  },
  "language_info": {
   "codemirror_mode": {
    "name": "ipython",
    "version": 3
   },
   "file_extension": ".py",
   "mimetype": "text/x-python",
   "name": "python",
   "nbconvert_exporter": "python",
   "pygments_lexer": "ipython3",
   "version": "3.12.8"
  }
 },
 "nbformat": 4,
 "nbformat_minor": 4
}
