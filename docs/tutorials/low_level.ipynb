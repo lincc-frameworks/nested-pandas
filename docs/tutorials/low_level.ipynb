{
 "cells": [
  {
   "cell_type": "markdown",
   "id": "d091517300501fc3",
   "metadata": {},
   "source": [
    "# Lower-level interface for performance and flexibility\n",
    "## Reveal the hidden power of nested Series\n",
    "\n",
    "This section is for users looking to optimize the performance, both computationally and in memory-usage, of their workflows. This section also details a broader suite of data representations usable within `nested-pandas`.\n",
    "It shows how to deal with individual nested columns: add, remove, and modify data using both \"flat-array\" and \"list-array\" representations.\n",
    "It also demonstrates how to convert nested Series to and from different data types, like `pd.ArrowDtype`d Series, flat dataframes, list-array dataframes, and collections of nested elements."
   ]
  },
  {
   "cell_type": "code",
   "execution_count": null,
   "id": "619f088e7ac0f327",
   "metadata": {},
   "outputs": [],
   "source": [
    "import numpy as np\n",
    "import pandas as pd\n",
    "import pyarrow as pa\n",
    "\n",
    "from nested_pandas import NestedDtype\n",
    "from nested_pandas.datasets import generate_data\n",
    "from nested_pandas.series.packer import pack"
   ]
  },
  {
   "cell_type": "markdown",
   "id": "a1e0b57299702aba",
   "metadata": {},
   "source": [
    "## Generate some data and get a Series of `NestedDtype` type\n",
    "\n",
    "We are going to use built-in data generator to get a `NestedFrame` with a \"nested\" column being a `Series` of `NestedDtype` type.\n",
    "This column would represent [light curves](https://en.wikipedia.org/wiki/Light_curve) of some astronomical objects. "
   ]
  },
  {
   "cell_type": "code",
   "execution_count": null,
   "id": "f9dd16a4bb9aaa63",
   "metadata": {},
   "outputs": [],
   "source": [
    "nested_df = generate_data(4, 3, seed=42)\n",
    "nested_series = nested_df[\"nested\"]\n",
    "nested_series[2]"
   ]
  },
  {
   "cell_type": "markdown",
   "id": "767e8105fcafca0d",
   "metadata": {},
   "source": [
    "## Get access to different data views using `.nest` accessor\n",
    "\n",
    "`pandas` provides an interface to access series with custom \"accessors\" - special attributes acting like a different view on the data.\n",
    "You may already know [`.str` accessor](https://pandas.pydata.org/pandas-docs/stable/reference/series.html#api-series-str) for strings or [`.dt` for datetime-like](https://pandas.pydata.org/pandas-docs/stable/reference/series.html#timedelta-methods) data.\n",
    "Since v2.0, pandas also supports few accessors for `ArrowDtype`d Series, `.list` for list-arrays and `.struct` for struct-arrays.\n",
    "\n",
    "`nested-pandas` extends this concept and provides `.nest` accessor for `NestedDtype`d Series, which gives user an object to work with nested data more efficiently and flexibly."
   ]
  },
  {
   "cell_type": "markdown",
   "id": "40f0d1e6a2cbbb44",
   "metadata": {},
   "source": [
    "### `.nest` object is a mapping\n",
    "\n",
    "`.nest` accessor provides an object implementing `Mapping` interface, so you can use it like an immutable dictionary.\n",
    "Keys of this mapping are the names of the nested columns (fields), and values are \"flat\" Series representing the nested data.\n",
    "\n",
    "The only way to modify the nested data in-place with this interface is to re-assign the whole field with a new data of the same length and dtype, see the discussion about the mutability limitations in [this GitHub issue](https://github.com/lincc-frameworks/nested-pandas/issues/87)."
   ]
  },
  {
   "cell_type": "code",
   "execution_count": null,
   "id": "fb7beb750d3e2893",
   "metadata": {},
   "outputs": [],
   "source": [
    "list(nested_series.nest.keys())"
   ]
  },
  {
   "cell_type": "markdown",
   "id": "33d8caacf0bf042e",
   "metadata": {},
   "source": [
    "You can also get a list of fields with `.fields` attribute"
   ]
  },
  {
   "cell_type": "code",
   "execution_count": null,
   "id": "56b0d9ffc5820d22",
   "metadata": {},
   "outputs": [],
   "source": [
    "nested_series.nest.fields"
   ]
  },
  {
   "cell_type": "markdown",
   "id": "4b503d563196f8",
   "metadata": {},
   "source": [
    "The value of each key is a \"flat\" Series with repeated index, so the original index of the `nested_series` is repeated for each element of the nested data. "
   ]
  },
  {
   "cell_type": "code",
   "execution_count": null,
   "id": "30ee9a430b6ff641",
   "metadata": {},
   "outputs": [],
   "source": [
    "nested_series.nest[\"t\"]"
   ]
  },
  {
   "cell_type": "markdown",
   "id": "7167f5a9c947d96f",
   "metadata": {},
   "source": [
    "You can also get a subset of nested columns as a new nested Series"
   ]
  },
  {
   "cell_type": "code",
   "execution_count": null,
   "id": "f0db15d31b289140",
   "metadata": {},
   "outputs": [],
   "source": [
    "nested_series.nest[[\"t\", \"flux\"]].dtype"
   ]
  },
  {
   "cell_type": "markdown",
   "id": "3ea3e533239f964c",
   "metadata": {},
   "source": [
    "You can add new columns, drop existing ones, or modify the existing ones.\n",
    "These operations would create new nested Series, however they would create shallow copies of the rest of the fields, so they are quite efficient.\n",
    "\n",
    "The in-place modification is currently limited to the case when you replace the whole \"flat\" Series with a new one of the same length and compatible dtype.\n",
    "When modifying the nested data, only the column you are working with is changed, the rest of the data are not affected and not copied."
   ]
  },
  {
   "cell_type": "code",
   "execution_count": null,
   "id": "66ae5cc26fa17458",
   "metadata": {},
   "outputs": [],
   "source": [
    "new_series = nested_series.copy()\n",
    "\n",
    "# Change the data in-place\n",
    "new_series.nest[\"flux\"] = new_series.nest[\"flux\"] - new_series.nest[\"flux\"].mean()\n",
    "\n",
    "# Create a new series with a new column\n",
    "new_series = new_series.nest.with_field(\"lsst_band\", \"lsst_\" + new_series.nest[\"band\"])\n",
    "\n",
    "# Create a new series with a column removed, you can also pass a list of columns to remove\n",
    "new_series = new_series.nest.without_field(\"band\")\n",
    "\n",
    "# Add a new column with a python list instead of a Series\n",
    "new_series = new_series.nest.with_field(\n",
    "    \"new_column\",\n",
    "    [1, 2] * (new_series.nest.flat_length // 2),\n",
    ")\n",
    "\n",
    "# Create a new series, with a column dtype changed\n",
    "new_series = new_series.nest.with_field(\"t\", new_series.nest[\"t\"].astype(np.int8))\n",
    "\n",
    "new_series.nest.to_flat()"
   ]
  },
  {
   "cell_type": "markdown",
   "id": "f00e61bbdc730fea",
   "metadata": {},
   "source": [
    "### Different data views\n",
    "\n",
    "`.nest` accessor provides a few different views on the data:\n",
    "- `.to_flat()` - get a \"flat\" pandas data frame with repeated index, it is kinda of a concatenation of all nested elements along the nested axis\n",
    "- `.to_lists()` - get a pandas data frame of nested-array (list-array) Series, where each element is a list of nested elements. Data type would be `pd.ArrowDtype` of pyarrow list.\n",
    "\n",
    "Both representations are copy-free, so they could be done very efficiently. The only additional overhead when accessing a \"flat\" representation is the creation of a new repeating index."
   ]
  },
  {
   "cell_type": "code",
   "execution_count": null,
   "id": "ce6d519d8d37ead3",
   "metadata": {},
   "outputs": [],
   "source": [
    "nested_series.nest.to_flat([\"flux\", \"t\"])"
   ]
  },
  {
   "cell_type": "code",
   "execution_count": null,
   "id": "2421b91387487995",
   "metadata": {},
   "outputs": [],
   "source": [
    "lists_df = nested_series.nest.to_lists()  # may also accept a list of fields (nested columns) to get\n",
    "lists_df[\"t\"].list.len()  # here we use pandas' build-in list accessor to get the length of each list"
   ]
  },
  {
   "cell_type": "markdown",
   "id": "db5d56aaa22c18e3",
   "metadata": {},
   "source": [
    "List-arrays may be assigned back to the nested Series"
   ]
  },
  {
   "cell_type": "code",
   "execution_count": null,
   "id": "f2c205e95affb9ba",
   "metadata": {},
   "outputs": [],
   "source": [
    "# Adjust each time to be relative to the first observation\n",
    "dt = new_series.nest.to_lists()[\"t\"].apply(lambda t: t - t.min())\n",
    "new_series = new_series.nest.with_list_field(\"dt\", dt)\n",
    "new_series.nest.to_flat()"
   ]
  },
  {
   "cell_type": "markdown",
   "id": "93f73bf28d48bfdc",
   "metadata": {},
   "source": [
    "## Convert to and from nested Series\n",
    "\n",
    "We have already seen how `.nest` accessor could be used to get different views on the nested data: \"flat\" dataframe, and list-array dataframe with columns of `pd.ArrowDtype`.\n",
    "\n",
    "This section is about converting nested Series to and from other data types.\n",
    "If you just need to add a nested column to a `NestedFrame`, you can do it with `.add_nested()` method."
   ]
  },
  {
   "cell_type": "markdown",
   "id": "cdc5bb2edff734f1",
   "metadata": {},
   "source": [
    "### To and from `pd.ArrowDtype`\n",
    "\n",
    "We can convert nested Series to and from `pd.ArrowDtype`d Series. \n",
    "`NestedDtype` is close to `pd.ArrowDtype` for arrow struct-arrays, but it is stricter about the nested data structure.\n",
    "`nested-pandas` also uses `pyarrow` struct-arrays as a storage format, where struct fields are list-arrays of the same length.\n",
    "So the conversion is quite straightforward, and doesn't require any data copying. "
   ]
  },
  {
   "cell_type": "code",
   "execution_count": null,
   "id": "8ef96243c6d74aff",
   "metadata": {},
   "outputs": [],
   "source": [
    "struct_series = pd.Series(nested_series, dtype=nested_series.dtype.to_pandas_arrow_dtype())\n",
    "struct_series.struct.field(\"flux\")  # pandas build-in accessor for struct-arrays"
   ]
  },
  {
   "cell_type": "code",
   "execution_count": null,
   "id": "422e719861ae40f6",
   "metadata": {},
   "outputs": [],
   "source": [
    "nested_series.equals(pd.Series(struct_series, dtype=NestedDtype.from_pandas_arrow_dtype(struct_series.dtype)))"
   ]
  },
  {
   "cell_type": "markdown",
   "id": "88f5692e922bfe97",
   "metadata": {},
   "source": [
    "### `pack()` function for creating a new nested Series\n",
    "\n",
    "`nested-pandas` provides a `pack()` function to create a new nested Series from either a sequence of a single flat dataframe with repeated index."
   ]
  },
  {
   "cell_type": "markdown",
   "id": "660101bd5ef08d6a",
   "metadata": {},
   "source": [
    "#### Using `pack()` to nest a flat dataframe\n",
    "\n",
    "You can also use `pack()` to create a nested Series from a flat dataframe with repeated index, for example from a one given by `.nest.to_flat()` method."
   ]
  },
  {
   "cell_type": "code",
   "execution_count": null,
   "id": "926f2c9fcffc5f03",
   "metadata": {},
   "outputs": [],
   "source": [
    "new_series = pack(nested_series.nest.to_flat())\n",
    "new_series.equals(nested_series)"
   ]
  },
  {
   "cell_type": "code",
   "execution_count": null,
   "id": "3a1d2025c232ac82",
   "metadata": {},
   "outputs": [],
   "source": [
    "series_from_flat = pack(\n",
    "    pd.DataFrame(\n",
    "        {\n",
    "            \"t\": [1, 2, 3, 4, 5, 6],\n",
    "            \"flux\": [0.1, 0.2, 0.3, 0.4, 0.5, 0.6],\n",
    "        },\n",
    "        index=[0, 0, 0, 0, 1, 1],\n",
    "    ),\n",
    "    name=\"from_flat\",  # optional\n",
    ")\n",
    "series_from_flat"
   ]
  },
  {
   "cell_type": "markdown",
   "id": "752c92bc4e68f1be",
   "metadata": {},
   "source": [
    "#### Using `pack()` to nest a collection of elements\n",
    "\n",
    "You can use `pack()` to create a nested Series from a collection of elements, where each element representing a single row of the nested data.\n",
    "Each element can be one of many supported types, and you can mix them in the same collection:\n",
    "- `pd.DataFrame`\n",
    "- `dict` with items representing the nested columns, all the same length\n",
    "- `pyarrow.StructScalar` with elements being list-arrays of the same length\n",
    "- `None` or `pd.NA` for missing data\n",
    "\n",
    "All the elements must have the same columns (fields), but may have the different length of the nested data.    "
   ]
  },
  {
   "cell_type": "code",
   "execution_count": null,
   "id": "2de4619726ab3d5c",
   "metadata": {},
   "outputs": [],
   "source": [
    "series_from_pack = pack(\n",
    "    [\n",
    "        pd.DataFrame({\"t\": [1, 2, 3], \"flux\": [0.1, 0.2, 0.3]}),\n",
    "        {\"t\": [4, 5], \"flux\": [0.4, 0.5]},\n",
    "        None,\n",
    "    ],\n",
    "    name=\"from_pack\",  # optional\n",
    "    index=[3, 4, 5],  # optional\n",
    ")\n",
    "series_from_pack"
   ]
  },
  {
   "cell_type": "markdown",
   "id": "6ece282f46f8647e",
   "metadata": {},
   "source": [
    "If we are not happy with the default dtype, we can specify it explicitly, see more details on how to do it in the next section, here we just show an example."
   ]
  },
  {
   "cell_type": "code",
   "execution_count": null,
   "id": "9c63ae45dd0b6a29",
   "metadata": {},
   "outputs": [],
   "source": [
    "series_from_pack = pack(\n",
    "    [\n",
    "        pd.DataFrame({\"t\": [1, 2, 3], \"flux\": [0.1, 0.2, 0.3]}),\n",
    "        {\"t\": [4, 5], \"flux\": [0.4, 0.5]},\n",
    "        None,\n",
    "    ],\n",
    "    dtype=NestedDtype.from_fields({\"t\": pa.float64(), \"flux\": pa.float32()}),\n",
    ")\n",
    "series_from_pack"
   ]
  },
  {
   "cell_type": "markdown",
   "id": "1f2903409cdd886a",
   "metadata": {},
   "source": [
    "### Using pd.Series(values, dtype=NestedDtype.from_fields({...}))\n",
    "\n",
    "`nested-pandas` provides a `NestedDtype` class to create a new nested Series with a given dtype directly.\n",
    "`NestedDtype` may be built from a list of fields, where each field is a pair of a name and a data type.\n",
    "\n",
    "This way allows you to create a new nested Series from a variety of datatypes, but due to pandas interface limitations requires you specifying a concrete dtype. "
   ]
  },
  {
   "cell_type": "markdown",
   "id": "e21a0023ccc3b54d",
   "metadata": {},
   "source": [
    "#### pd.Series from a sequence of elements\n",
    "\n",
    "This is the same as using `pack()` function, but you need to specify the dtype explicitly."
   ]
  },
  {
   "cell_type": "code",
   "execution_count": null,
   "id": "1284d9b536b9e784",
   "metadata": {},
   "outputs": [],
   "source": [
    "series_from_dtype = pd.Series(\n",
    "    [\n",
    "        pd.NA,\n",
    "        pd.DataFrame({\"t\": [1, 2, 3], \"band\": [\"g\", \"r\", \"r\"]}),\n",
    "        {\"t\": np.array([4, 5]), \"band\": [None, \"r\"]},\n",
    "    ],\n",
    "    dtype=NestedDtype.from_fields({\"t\": pa.float64(), \"band\": pa.string()}),\n",
    ")\n",
    "series_from_dtype"
   ]
  },
  {
   "cell_type": "markdown",
   "id": "8ffb6dcec4226fed",
   "metadata": {},
   "source": [
    "`pyarrow` native objects are also supported. Scalars:"
   ]
  },
  {
   "cell_type": "code",
   "execution_count": null,
   "id": "b7c7fd878bc97f68",
   "metadata": {},
   "outputs": [],
   "source": [
    "series_pa_type = pa.struct({\"t\": pa.list_(pa.float64()), \"band\": pa.list_(pa.string())})\n",
    "scalar_pa_type = pa.struct({\"t\": pa.list_(pa.int16()), \"band\": pa.list_(pa.string())})\n",
    "series_from_pa_scalars = pd.Series(\n",
    "    # Scalars will be cast to the given type\n",
    "    [\n",
    "        pa.scalar(None),\n",
    "        pa.scalar({\"t\": [1, 2, 3], \"band\": [\"g\", None, \"r\"]}, type=scalar_pa_type),\n",
    "    ],\n",
    "    dtype=NestedDtype(series_pa_type),\n",
    "    name=\"from_pa_scalars\",\n",
    "    index=[101, -2],\n",
    ")\n",
    "series_from_pa_scalars"
   ]
  },
  {
   "cell_type": "markdown",
   "id": "f79894526f353197",
   "metadata": {},
   "source": [
    "#### pd.Series from an array\n",
    "\n",
    "Construction with `pyarrow` struct arrays is the cheapest way to create a nested Series. It is very semilliar to initialisation of a `pd.Series` of `pd.ArrowDtype` type."
   ]
  },
  {
   "cell_type": "code",
   "execution_count": null,
   "id": "e837d25dcb0a2b4d",
   "metadata": {},
   "outputs": [],
   "source": [
    "pa_struct_array = pa.StructArray.from_arrays(\n",
    "    [\n",
    "        [\n",
    "            np.arange(10),\n",
    "            np.arange(5),\n",
    "        ],  # \"a\" field\n",
    "        [\n",
    "            np.linspace(0, 1, 10),\n",
    "            np.linspace(0, 1, 5),\n",
    "        ],  # \"b\" field\n",
    "    ],\n",
    "    names=[\"a\", \"b\"],\n",
    ")\n",
    "series_from_pa_struct = pd.Series(\n",
    "    pa_struct_array,\n",
    "    dtype=NestedDtype(pa_struct_array.type),\n",
    "    name=\"from_pa_struct_array\",\n",
    "    index=[\"I\", \"II\"],\n",
    ")"
   ]
  },
  {
   "cell_type": "markdown",
   "id": "bc9fa4ef3260fee5",
   "metadata": {},
   "source": [
    "### Convert nested Series to different data types\n",
    "\n",
    "We have already seen how to convert nested Series to `pd.ArrowDtype`d Series, to a flat dataframe, or to a list-array dataframe. Let's summarize it here one more time:"
   ]
  },
  {
   "cell_type": "code",
   "execution_count": null,
   "id": "116c902ea8681c9e",
   "metadata": {},
   "outputs": [],
   "source": [
    "# Convert to pd.ArrowDtype Series of struct-arrays\n",
    "arrow_dtyped_series = pd.Series(nested_series, dtype=nested_series.dtype.to_pandas_arrow_dtype())\n",
    "# Convert to a flat dataframe\n",
    "flat_df = nested_series.nest.to_flat()\n",
    "# Convert to a list-array dataframe\n",
    "list_df = nested_series.nest.to_lists()"
   ]
  },
  {
   "cell_type": "markdown",
   "id": "217b848cffcbe33",
   "metadata": {},
   "source": [
    "#### Convert to a collection of nested elements\n",
    "\n",
    "Single element representation of the nested Series is `pd.DataFrame`, so iteration over the nested Series would yield `pd.DataFrame` objects."
   ]
  },
  {
   "cell_type": "code",
   "execution_count": null,
   "id": "30ea40dee30795d1",
   "metadata": {},
   "outputs": [],
   "source": [
    "for element in nested_series:\n",
    "    print(element)"
   ]
  },
  {
   "cell_type": "markdown",
   "id": "791d5cc01cb51fd7",
   "metadata": {},
   "source": [
    "All collections built with iterables would have `pd.DataFrame` as elements:"
   ]
  },
  {
   "cell_type": "code",
   "execution_count": null,
   "id": "81f6c1f98dfc26a9",
   "metadata": {},
   "outputs": [],
   "source": [
    "nested_elements = list(nested_series)\n",
    "nested_elements[-1]"
   ]
  },
  {
   "cell_type": "markdown",
   "id": "8fa757ca105205c",
   "metadata": {},
   "source": [
    "Nested Series also supports direct conversion to numpy array of object dtype:"
   ]
  },
  {
   "cell_type": "code",
   "execution_count": null,
   "id": "69ed758c48c55015",
   "metadata": {},
   "outputs": [],
   "source": [
    "nested_series_with_na = pack([None, pd.NA, {\"t\": [1, 2], \"flux\": [0.1, None]}])\n",
    "# Would have None for top-level missed data\n",
    "np_array1 = np.array(nested_series_with_na)\n",
    "print(f\"{np_array1[0] = }\")"
   ]
  },
  {
   "cell_type": "code",
   "execution_count": null,
   "id": "99ce9d18bc69ae49",
   "metadata": {},
   "outputs": [],
   "source": [
    "# Would have empty pd.DataFrame for top-level missed data\n",
    "np_array2 = nested_series_with_na.to_numpy(na_value=pd.DataFrame())\n",
    "print(f\"{np_array2[0] = }\")"
   ]
  }
 ],
 "metadata": {
  "kernelspec": {
   "display_name": "Python 3",
   "language": "python",
   "name": "python3"
  },
  "language_info": {
   "codemirror_mode": {
    "name": "ipython",
    "version": 2
   },
   "file_extension": ".py",
   "mimetype": "text/x-python",
   "name": "python",
   "nbconvert_exporter": "python",
   "pygments_lexer": "ipython2",
   "version": "2.7.6"
  }
 },
 "nbformat": 4,
 "nbformat_minor": 5
}
