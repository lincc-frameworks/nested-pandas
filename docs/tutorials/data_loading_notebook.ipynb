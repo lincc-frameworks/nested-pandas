{
 "cells": [
  {
   "cell_type": "markdown",
   "metadata": {},
   "source": [
    "# Loading Data into Nested-Pandas\n",
    "\n",
    "This notebook provides a brief introduction to loading data into nested-pandas or converting data into a nested structure. For an introduction to nested-pandas, see the quick start tutorial or the [readthedocs page](https://nested-pandas.readthedocs.io/en/latest/)\n"
   ]
  },
  {
   "cell_type": "markdown",
   "metadata": {},
   "source": [
    "## Installation and Imports\n",
    "\n",
    "With a valid Python environment, nested-pandas and its dependencies are easy to install using the `pip` package manager. The following command can be used to install it:"
   ]
  },
  {
   "cell_type": "code",
   "execution_count": null,
   "metadata": {},
   "outputs": [],
   "source": [
    "# % pip install nested-pandas"
   ]
  },
  {
   "cell_type": "code",
   "execution_count": null,
   "metadata": {},
   "outputs": [],
   "source": [
    "import os\n",
    "import tempfile\n",
    "\n",
    "import pandas as pd\n",
    "\n",
    "from nested_pandas import NestedFrame, read_parquet\n",
    "from nested_pandas.datasets import generate_parquet_file"
   ]
  },
  {
   "cell_type": "markdown",
   "metadata": {},
   "source": [
    "# Overview\n",
    "\n",
    "Nested-pandas provides multiple mechanisms for loading data or converting data to the nested format.  Below we walk through some of the common approaches.\n",
    "\n",
    "# Converting Flat Data\n",
    "\n",
    "Commonly existing data sets will be provided in “flat” data structures such as dictionaries or Pandas DataFrames.  In these cases the data consists of a rectangular table where each row represents an instance or observation. Multiple instances of the same top-level item are linked together through an ID. All rows with the same ID correspond to the same object/item.\n",
    "\n",
    "We define one such flat dataframe consisting of 10 rows for 3 distinct items."
   ]
  },
  {
   "cell_type": "code",
   "execution_count": null,
   "metadata": {},
   "outputs": [],
   "source": [
    "flat_df = pd.DataFrame(\n",
    "    data={\n",
    "        \"a\": [1, 1, 1, 2, 2, 2, 3, 3, 3, 3],\n",
    "        \"b\": [2, 2, 2, 4, 4, 4, 6, 6, 6, 6],\n",
    "        \"c\": [0, 2, 4, 1, 4, 3, 1, 4, 1, 1],\n",
    "        \"d\": [5, 4, 7, 5, 3, 1, 9, 3, 4, 1],\n",
    "    },\n",
    "    index=[0, 0, 0, 1, 1, 1, 2, 2, 2, 2],\n",
    ")\n",
    "flat_df"
   ]
  },
  {
   "cell_type": "markdown",
   "metadata": {},
   "source": [
    "The first column provides the object id. As we can see there are three rows with ID=0, three rows with ID=1, and four rows with ID=2. Some of the values are constant for each item. For example both columns “a” and “b” take a single value for object. We are wasting space by repeating them in every row. Other values are different per row (columns “c” and “d”).\n",
    "\n",
    "As a concrete example, consider patient records. Each patient is assigned a unique id and has static data such as a date birth. They also have measurements that are new with every trip to the doctor, such as blood pressure or temperature."
   ]
  },
  {
   "cell_type": "markdown",
   "metadata": {},
   "source": [
    "## Converting from Flat Pandas\n",
    "\n",
    "The easiest approach to converting the flat table above into a nested structure is to use `NestedFrame.from_flat()`. This function takes\n",
    "  * a list of columns that are not nested (base_columns)\n",
    "  * a list of columns to nest (nested_columns)\n",
    "  * the name of the nested column (name)\n",
    "Rows are associated using the index by default, but a column name on which to join can also be provided."
   ]
  },
  {
   "cell_type": "code",
   "execution_count": null,
   "metadata": {},
   "outputs": [],
   "source": [
    "nf = NestedFrame.from_flat(\n",
    "    flat_df,\n",
    "    base_columns=[\"a\", \"b\"],  # the columns not to nest\n",
    "    nested_columns=[\"c\", \"d\"],  # the columns to nest\n",
    "    name=\"nested\",  # name of the nested column\n",
    ")\n",
    "nf"
   ]
  },
  {
   "cell_type": "markdown",
   "metadata": {},
   "source": [
    "## Inserting Nested Rows\n",
    "\n",
    "Alternatively, we can use the `NestedFrame` constructor to create our base frame from a dictionary of our columns (as we would do with a normal pandas DataFrame). This defines the top-level objects and the values that are constant across rows (\"a\" and \"b\")."
   ]
  },
  {
   "cell_type": "code",
   "execution_count": null,
   "metadata": {},
   "outputs": [],
   "source": [
    "nf = NestedFrame(\n",
    "    data={\n",
    "        \"a\": [1, 2, 3],\n",
    "        \"b\": [2, 4, 6],\n",
    "    },\n",
    "    index=[0, 1, 2],\n",
    ")\n",
    "nf"
   ]
  },
  {
   "cell_type": "markdown",
   "metadata": {},
   "source": [
    "We can then create an additional pandas dataframes for the nested columns and pack them into our `NestedFrame` with `NestedFrame.add_nested()` function. `add_nested` will align the nest based on the index by default (a column may be selected instead via the `on` kwarg), as we see the `nested` `DataFrame` has a repeated index corresponding to the `nf` `NestedFrame`."
   ]
  },
  {
   "cell_type": "code",
   "execution_count": null,
   "metadata": {},
   "outputs": [],
   "source": [
    "nested = pd.DataFrame(\n",
    "    data={\n",
    "        \"c\": [0, 2, 4, 1, 4, 3, 1, 4, 1, 1],\n",
    "        \"d\": [5, 4, 7, 5, 3, 1, 9, 3, 4, 1],\n",
    "    },\n",
    "    index=[0, 0, 0, 1, 1, 1, 2, 2, 2, 2],\n",
    ")\n",
    "\n",
    "nf = nf.add_nested(nested, \"nested\")\n",
    "nf"
   ]
  },
  {
   "cell_type": "markdown",
   "metadata": {},
   "source": [
    "The \"index\" parameter is used to perform the association.  All of the values for index=0 are bundled together into a sub-table and stored in row 0's \"nested\" column."
   ]
  },
  {
   "cell_type": "code",
   "execution_count": null,
   "metadata": {},
   "outputs": [],
   "source": [
    "nf.loc[0][\"nested\"]"
   ]
  },
  {
   "cell_type": "markdown",
   "metadata": {},
   "source": [
    "We could add other nested columns by creating new sub-tables and adding them with `add_nested()`. Note that while the tables added with each `add_nested()` must be rectangular, they do not need to have the same dimensions between calls. We could add another nested row with a different number of observations."
   ]
  },
  {
   "cell_type": "code",
   "execution_count": null,
   "metadata": {},
   "outputs": [],
   "source": [
    "nested = pd.DataFrame(\n",
    "    data={\n",
    "        \"c\": [0, 1, 0, 1, 2, 0],\n",
    "        \"d\": [5, 4, 5, 4, 3, 5],\n",
    "    },\n",
    "    index=[0, 0, 1, 1, 1, 2],\n",
    ")\n",
    "\n",
    "nf = nf.add_nested(nested, \"nested2\")\n",
    "nf"
   ]
  },
  {
   "cell_type": "markdown",
   "metadata": {},
   "source": [
    "# Loading Data from Parquet Files"
   ]
  },
  {
   "cell_type": "markdown",
   "metadata": {},
   "source": [
    "For larger datasets, we support loading data from parquet files. In the following cell, we generate a series of temporary parquet files with random data, and ingest them with the `read_parquet` method:"
   ]
  },
  {
   "cell_type": "code",
   "execution_count": null,
   "metadata": {},
   "outputs": [],
   "source": [
    "# Note: that we use the `tempfile` module to create and then cleanup a temporary directory.\n",
    "# You can of course remove this and use your own directory and real files on your system.\n",
    "with tempfile.TemporaryDirectory() as temp_path:\n",
    "    # Generates parquet files with random data within our temporary directory\n",
    "    generate_parquet_file(10, {\"nested1\": 100, \"nested2\": 10}, os.path.join(temp_path, \"test.parquet\"))\n",
    "\n",
    "    # Read the parquet file to a NestedFrame\n",
    "    nf = read_parquet(os.path.join(temp_path, \"test.parquet\"))"
   ]
  },
  {
   "cell_type": "markdown",
   "metadata": {},
   "source": [
    "Nested-Pandas nested columns are compatible with the parquet format, meaning they can be written and read from parquet natively."
   ]
  },
  {
   "cell_type": "code",
   "execution_count": null,
   "metadata": {},
   "outputs": [],
   "source": [
    "nf  # nf contains nested columns"
   ]
  },
  {
   "cell_type": "markdown",
   "metadata": {},
   "source": [
    "# Saving NestedFrames to Parquet Files\n",
    "\n",
    "Additionally we can save an existing `NestedFrame` as a parquet file using `NestedFrame.to_parquet`.\n",
    "\n",
    ">Note: Nested-Pandas converts any nested columns to pyarrow datatypes when writing to parquet, meaning that parquet files with nested columns can be read by a parquet reader from other packages so long as they understand pyarrow dtypes."
   ]
  },
  {
   "cell_type": "code",
   "execution_count": null,
   "metadata": {},
   "outputs": [],
   "source": [
    "# Note: that we use the `tempfile` module to create and then cleanup a temporary directory.\n",
    "# You can of course remove this and use your own directory and real files on your system.\n",
    "with tempfile.TemporaryDirectory() as temp_path:\n",
    "    nf.to_parquet(\n",
    "        os.path.join(temp_path, \"output.parquet\"),  # The output file path\n",
    "    )\n",
    "\n",
    "    # List the files in temp_path to ensure they were saved correctly.\n",
    "    print(\"The NestedFrame was saved to the following parquet files :\", os.listdir(temp_path))"
   ]
  }
 ],
 "metadata": {
  "kernelspec": {
   "display_name": "lsdb",
   "language": "python",
   "name": "python3"
  },
  "language_info": {
   "codemirror_mode": {
    "name": "ipython",
    "version": 3
   },
   "file_extension": ".py",
   "mimetype": "text/x-python",
   "name": "python",
   "nbconvert_exporter": "python",
   "pygments_lexer": "ipython3",
   "version": "3.12.8"
  }
 },
 "nbformat": 4,
 "nbformat_minor": 2
}
