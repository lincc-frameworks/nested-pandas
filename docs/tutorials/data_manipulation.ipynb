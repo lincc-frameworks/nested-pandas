{
 "cells": [
  {
   "cell_type": "markdown",
   "metadata": {},
   "source": [
    "# Fine Data Manipulation with Nested-Pandas"
   ]
  },
  {
   "cell_type": "markdown",
   "metadata": {},
   "source": [
    "This tutorial will briefly showcase how one would perform data manipulation operations from `pandas`, like adding columns, replacing values, etc. with `nested-pandas`."
   ]
  },
  {
   "cell_type": "code",
   "execution_count": null,
   "metadata": {
    "ExecuteTime": {
     "end_time": "2025-03-05T23:08:41.890895Z",
     "start_time": "2025-03-05T23:08:41.872743Z"
    }
   },
   "outputs": [],
   "source": [
    "import nested_pandas as npd\n",
    "from nested_pandas.datasets import generate_data\n",
    "\n",
    "# Begin by generating an example dataset\n",
    "ndf = generate_data(5, 20, seed=1)\n",
    "ndf"
   ]
  },
  {
   "cell_type": "code",
   "execution_count": null,
   "metadata": {
    "ExecuteTime": {
     "end_time": "2025-03-05T23:08:41.907431Z",
     "start_time": "2025-03-05T23:08:41.902080Z"
    }
   },
   "outputs": [],
   "source": [
    "# Show one of the nested dataframes\n",
    "ndf.iloc[0].nested"
   ]
  },
  {
   "cell_type": "markdown",
   "metadata": {},
   "source": [
    "## Nested Column Selection"
   ]
  },
  {
   "cell_type": "markdown",
   "metadata": {},
   "source": [
    "First, we can directly fetch a column from our nested column (aptly called \"nested\"). For example, below we can fetch the time column, \"t\", by specifying `\"nested.t\"` as the column to retrieve. This returns a \"flat\" view of the nested `t` column, where all rows from all dataframes are present in one dataframe."
   ]
  },
  {
   "cell_type": "code",
   "execution_count": null,
   "metadata": {
    "ExecuteTime": {
     "end_time": "2025-03-05T23:08:41.933782Z",
     "start_time": "2025-03-05T23:08:41.930296Z"
    }
   },
   "outputs": [],
   "source": [
    "# Directly Nested Column Selection\n",
    "ndf[\"nested.t\"]"
   ]
  },
  {
   "cell_type": "markdown",
   "metadata": {},
   "source": [
    "The advantage of the flat view being that this is easily manipulatable just as any `pandas.Series` object. "
   ]
  },
  {
   "cell_type": "code",
   "execution_count": null,
   "metadata": {
    "ExecuteTime": {
     "end_time": "2025-03-05T23:08:41.956770Z",
     "start_time": "2025-03-05T23:08:41.953485Z"
    }
   },
   "outputs": [],
   "source": [
    "ndf[\"nested.t\"] + 100"
   ]
  },
  {
   "cell_type": "markdown",
   "metadata": {},
   "source": [
    "## Adding or Replacing Nested Columns"
   ]
  },
  {
   "cell_type": "markdown",
   "metadata": {},
   "source": [
    "> *A Note on Performance: These operations involve full reconstruction of the nested columns so expect impacted performance when doing this at scale. It may be appropriate to do these operations within reduce functions directly (e.g. subtracting a value from a column) if performance is key.*"
   ]
  },
  {
   "cell_type": "markdown",
   "metadata": {},
   "source": [
    "We can use the \"base_column.nested_sub_column\" syntax to also perform operations that add new columns or replace existing columns for a nested column. For example, we can directly replace the \"band\" column with a new column that appends an additional string to the values."
   ]
  },
  {
   "cell_type": "code",
   "execution_count": null,
   "metadata": {
    "ExecuteTime": {
     "end_time": "2025-03-05T23:08:41.992618Z",
     "start_time": "2025-03-05T23:08:41.987910Z"
    }
   },
   "outputs": [],
   "source": [
    "# prepend lsst_ to the band column\n",
    "\n",
    "ndf[\"nested.band\"] = \"lsst_\" + ndf[\"nested.band\"]\n",
    "\n",
    "ndf[\"nested.band\"]"
   ]
  },
  {
   "cell_type": "markdown",
   "metadata": {},
   "source": [
    "Next, we can create a new column in the \"nested\" column. For example, we can subtract a value from each time value and return it as a new column."
   ]
  },
  {
   "cell_type": "code",
   "execution_count": null,
   "metadata": {
    "ExecuteTime": {
     "end_time": "2025-03-05T23:08:42.016312Z",
     "start_time": "2025-03-05T23:08:42.012009Z"
    }
   },
   "outputs": [],
   "source": [
    "# create a new \"corrected_t\" column in \"nested\"\n",
    "\n",
    "ndf[\"nested.corrected_t\"] = ndf[\"nested.t\"] - 5\n",
    "\n",
    "ndf[\"nested.corrected_t\"]"
   ]
  },
  {
   "cell_type": "code",
   "execution_count": null,
   "metadata": {
    "ExecuteTime": {
     "end_time": "2025-03-05T23:08:42.037065Z",
     "start_time": "2025-03-05T23:08:42.032519Z"
    }
   },
   "outputs": [],
   "source": [
    "# Show the first dataframe again\n",
    "ndf.iloc[0].nested"
   ]
  },
  {
   "cell_type": "markdown",
   "metadata": {},
   "source": [
    "## Adding New Nested Structures"
   ]
  },
  {
   "cell_type": "markdown",
   "metadata": {},
   "source": [
    "Finally, we can also add entirely new nested structures using the above syntax."
   ]
  },
  {
   "cell_type": "code",
   "execution_count": null,
   "metadata": {
    "ExecuteTime": {
     "end_time": "2025-03-05T23:08:42.075674Z",
     "start_time": "2025-03-05T23:08:42.061111Z"
    }
   },
   "outputs": [],
   "source": [
    "ndf[\"bands.band_label\"] = ndf[\"nested.band\"]\n",
    "ndf"
   ]
  },
  {
   "cell_type": "markdown",
   "metadata": {},
   "source": [
    "This is functionally equivalent to using `add_nested`:"
   ]
  },
  {
   "cell_type": "code",
   "execution_count": null,
   "metadata": {
    "ExecuteTime": {
     "end_time": "2025-03-05T23:08:42.132918Z",
     "start_time": "2025-03-05T23:08:42.114796Z"
    }
   },
   "outputs": [],
   "source": [
    "ndf.add_nested(ndf[\"nested.band\"].to_frame(), \"bands_from_add_nested\")"
   ]
  },
  {
   "cell_type": "markdown",
   "metadata": {},
   "source": [
    "## Embedding \"base\" column into nested column"
   ]
  },
  {
   "cell_type": "markdown",
   "metadata": {},
   "source": [
    "We can also assign some \"base\" (non-nested) column to a nested column, which will be broadcasted to all nested dataframes with the values being repeated."
   ]
  },
  {
   "cell_type": "code",
   "execution_count": null,
   "metadata": {
    "ExecuteTime": {
     "end_time": "2025-03-05T23:08:42.165933Z",
     "start_time": "2025-03-05T23:08:42.161684Z"
    }
   },
   "outputs": [],
   "source": [
    "ndf[\"nested.a\"] = ndf[\"a\"]\n",
    "ndf[\"nested.a\"]"
   ]
  },
  {
   "cell_type": "markdown",
   "metadata": {},
   "source": [
    "Or we can do some operations over the base columns first:"
   ]
  },
  {
   "cell_type": "code",
   "execution_count": null,
   "metadata": {
    "ExecuteTime": {
     "end_time": "2025-03-05T23:08:42.266923Z",
     "start_time": "2025-03-05T23:08:42.262281Z"
    }
   },
   "outputs": [],
   "source": [
    "ndf[\"nested.ab\"] = ndf[\"a\"] + ndf[\"b\"] * 2\n",
    "ndf[\"nested.ab\"]"
   ]
  }
 ],
 "metadata": {
  "kernelspec": {
   "display_name": "Python 3",
   "language": "python",
   "name": "python3"
  },
  "language_info": {
   "codemirror_mode": {
    "name": "ipython",
    "version": 3
   },
   "file_extension": ".py",
   "mimetype": "text/x-python",
   "name": "python",
   "nbconvert_exporter": "python",
   "pygments_lexer": "ipython3",
   "version": "3.10.11"
  }
 },
 "nbformat": 4,
 "nbformat_minor": 2
}
