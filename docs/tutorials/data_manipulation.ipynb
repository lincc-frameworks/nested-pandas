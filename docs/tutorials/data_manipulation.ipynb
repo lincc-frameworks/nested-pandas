{
 "cells": [
  {
   "cell_type": "markdown",
   "metadata": {},
   "source": [
    "# Fine Data Manipulation with Nested-Pandas"
   ]
  },
  {
   "cell_type": "markdown",
   "metadata": {},
   "source": [
    "This tutorial will briefly showcase how one would perform data manipulation operations from `pandas`, like adding columns, replacing values, etc. with `nested-pandas`."
   ]
  },
  {
   "cell_type": "code",
   "execution_count": null,
   "metadata": {
    "ExecuteTime": {
     "end_time": "2025-03-05T23:08:41.890895Z",
     "start_time": "2025-03-05T23:08:41.872743Z"
    }
   },
   "outputs": [],
   "source": [
    "import nested_pandas as npd\n",
    "from nested_pandas.datasets import generate_data\n",
    "\n",
    "# Begin by generating an example dataset\n",
    "ndf = generate_data(5, 20, seed=1)\n",
    "ndf"
   ]
  },
  {
   "cell_type": "code",
   "execution_count": null,
   "metadata": {
    "ExecuteTime": {
     "end_time": "2025-03-05T23:08:41.907431Z",
     "start_time": "2025-03-05T23:08:41.902080Z"
    }
   },
   "outputs": [],
   "source": [
    "# Show one of the nested dataframes\n",
    "ndf.iloc[0].nested"
   ]
  },
  {
   "cell_type": "markdown",
   "metadata": {},
   "source": [
    "## Nested Column Selection"
   ]
  },
  {
   "cell_type": "markdown",
   "metadata": {},
   "source": [
    "First, we can directly fetch a column from our nested column (aptly called \"nested\"). For example, below we can fetch the time column, \"t\", by specifying `\"nested.t\"` as the column to retrieve. This returns a \"flat\" view of the nested `t` column, where all rows from all dataframes are present in one dataframe."
   ]
  },
  {
   "cell_type": "code",
   "execution_count": null,
   "metadata": {
    "ExecuteTime": {
     "end_time": "2025-03-05T23:08:41.933782Z",
     "start_time": "2025-03-05T23:08:41.930296Z"
    }
   },
   "outputs": [],
   "source": [
    "# Directly Nested Column Selection\n",
    "ndf[\"nested.t\"]"
   ]
  },
  {
   "cell_type": "markdown",
   "metadata": {},
   "source": [
    "The advantage of the flat view being that this is easily manipulatable just as any `pandas.Series` object. "
   ]
  },
  {
   "cell_type": "code",
   "execution_count": null,
   "metadata": {
    "ExecuteTime": {
     "end_time": "2025-03-05T23:08:41.956770Z",
     "start_time": "2025-03-05T23:08:41.953485Z"
    }
   },
   "outputs": [],
   "source": [
    "ndf[\"nested.t\"] + 100"
   ]
  },
  {
   "cell_type": "markdown",
   "metadata": {},
   "source": [
    "## Adding or Replacing Nested Columns"
   ]
  },
  {
   "cell_type": "markdown",
   "metadata": {},
   "source": [
    "> *A Note on Performance: These operations involve full reconstruction of the nested columns so expect impacted performance when doing this at scale. It may be appropriate to do these operations within reduce functions directly (e.g. subtracting a value from a column) if performance is key.*"
   ]
  },
  {
   "cell_type": "markdown",
   "metadata": {},
   "source": [
    "We can use the \"base_column.nested_sub_column\" syntax to also perform operations that add new columns or replace existing columns for a nested column. For example, we can directly replace the \"band\" column with a new column that appends an additional string to the values."
   ]
  },
  {
   "cell_type": "code",
   "execution_count": null,
   "metadata": {
    "ExecuteTime": {
     "end_time": "2025-03-05T23:08:41.992618Z",
     "start_time": "2025-03-05T23:08:41.987910Z"
    }
   },
   "outputs": [],
   "source": [
    "# prepend lsst_ to the band column\n",
    "\n",
    "ndf[\"nested.band\"] = \"lsst_\" + ndf[\"nested.band\"]\n",
    "\n",
    "ndf[\"nested.band\"]"
   ]
  },
  {
   "cell_type": "markdown",
   "metadata": {},
   "source": [
    "Next, we can create a new column in the \"nested\" column. For example, we can subtract a value from each time value and return it as a new column."
   ]
  },
  {
   "cell_type": "code",
   "execution_count": null,
   "metadata": {
    "ExecuteTime": {
     "end_time": "2025-03-05T23:08:42.016312Z",
     "start_time": "2025-03-05T23:08:42.012009Z"
    }
   },
   "outputs": [],
   "source": [
    "# create a new \"corrected_t\" column in \"nested\"\n",
    "\n",
    "ndf[\"nested.corrected_t\"] = ndf[\"nested.t\"] - 5\n",
    "\n",
    "ndf[\"nested.corrected_t\"]"
   ]
  },
  {
   "cell_type": "code",
   "execution_count": null,
   "metadata": {
    "ExecuteTime": {
     "end_time": "2025-03-05T23:08:42.037065Z",
     "start_time": "2025-03-05T23:08:42.032519Z"
    }
   },
   "outputs": [],
   "source": [
    "# Show the first dataframe again\n",
    "ndf.iloc[0].nested"
   ]
  },
  {
   "cell_type": "markdown",
   "metadata": {},
   "source": [
    "## Adding New Nested Structures"
   ]
  },
  {
   "cell_type": "markdown",
   "metadata": {},
   "source": [
    "Finally, we can also add entirely new nested structures using the above syntax."
   ]
  },
  {
   "cell_type": "code",
   "execution_count": null,
   "metadata": {
    "ExecuteTime": {
     "end_time": "2025-03-05T23:08:42.075674Z",
     "start_time": "2025-03-05T23:08:42.061111Z"
    }
   },
   "outputs": [],
   "source": [
    "ndf[\"bands.band_label\"] = ndf[\"nested.band\"]\n",
    "ndf"
   ]
  },
  {
   "cell_type": "markdown",
   "metadata": {},
   "source": [
    "This is functionally equivalent to using `add_nested`:"
   ]
  },
  {
   "cell_type": "code",
   "execution_count": null,
   "metadata": {
    "ExecuteTime": {
     "end_time": "2025-03-05T23:08:42.132918Z",
     "start_time": "2025-03-05T23:08:42.114796Z"
    }
   },
   "outputs": [],
   "source": [
    "ndf.add_nested(ndf[\"nested.band\"].to_frame(), \"bands_from_add_nested\")"
   ]
  },
  {
   "cell_type": "markdown",
   "metadata": {},
   "source": [
    "In addition to assigning individual nested columns, we can use the above syntax to nest an entire flat dataframe.\n",
    "\n",
    "As an example, we can flatten our existing \"nested\" frame and use the `[]` syntax to assign it as an additional nested frame."
   ]
  },
  {
   "cell_type": "code",
   "execution_count": null,
   "metadata": {},
   "outputs": [],
   "source": [
    "# Create a flat dataframe from our existing nested dataframe\n",
    "flat_df = ndf[\"nested\"].nest.to_flat()\n",
    "\n",
    "# Nest our flat dataframe back into our original dataframe\n",
    "ndf[\"example\"] = flat_df\n",
    "ndf"
   ]
  },
  {
   "cell_type": "markdown",
   "metadata": {},
   "source": [
    "The above again being shorthand for the following `add_nested` call:"
   ]
  },
  {
   "cell_type": "code",
   "execution_count": null,
   "metadata": {},
   "outputs": [],
   "source": [
    "ndf.add_nested(flat_df, \"example_from_add_nested\")"
   ]
  },
  {
   "cell_type": "markdown",
   "metadata": {},
   "source": [
    "## Embedding \"base\" column into nested column"
   ]
  },
  {
   "cell_type": "markdown",
   "metadata": {},
   "source": [
    "We can also assign some \"base\" (non-nested) column to a nested column, which will be broadcasted to all nested dataframes with the values being repeated."
   ]
  },
  {
   "cell_type": "code",
   "execution_count": null,
   "metadata": {
    "ExecuteTime": {
     "end_time": "2025-03-05T23:08:42.165933Z",
     "start_time": "2025-03-05T23:08:42.161684Z"
    }
   },
   "outputs": [],
   "source": [
    "ndf[\"nested.a\"] = ndf[\"a\"]\n",
    "ndf[\"nested.a\"]"
   ]
  },
  {
   "cell_type": "markdown",
   "metadata": {},
   "source": [
    "Or we can do some operations over the base columns first:"
   ]
  },
  {
   "cell_type": "code",
   "execution_count": null,
   "metadata": {
    "ExecuteTime": {
     "end_time": "2025-03-05T23:08:42.266923Z",
     "start_time": "2025-03-05T23:08:42.262281Z"
    }
   },
   "outputs": [],
   "source": [
    "ndf[\"nested.ab\"] = ndf[\"a\"] + ndf[\"b\"] * 2\n",
    "ndf[\"nested.ab\"]"
   ]
  },
  {
   "cell_type": "markdown",
   "metadata": {},
   "source": [
    "## Combining Nested Structures\n",
    "\n",
    "There may be cases where you would want to combine two nested structures into a single nested structure. There are multiple ways to do this, but by far the most direct path is through direct assignment, first let's set up a toy example:"
   ]
  },
  {
   "cell_type": "code",
   "execution_count": null,
   "metadata": {},
   "outputs": [],
   "source": [
    "# Setup a toy dataframe with two nested columns\n",
    "list_nf = npd.NestedFrame(\n",
    "    {\n",
    "        \"a\": [\"cat\", \"dog\", \"bird\"],\n",
    "        \"b\": [1, 2, 3],\n",
    "        \"c\": [[1, 2, 3], [4, 5, 6], [7, 8, 9]],\n",
    "        \"d\": [[10, 20, 30], [40, 50, 60], [70, 80, 90]],\n",
    "    }\n",
    ")\n",
    "\n",
    "list_nf = list_nf.nest_lists([\"c\"], \"c\")\n",
    "list_nf = list_nf.nest_lists([\"d\"], \"d\")\n",
    "list_nf"
   ]
  },
  {
   "cell_type": "markdown",
   "metadata": {},
   "source": [
    "\n",
    "Given the nested structures, \"c\" and \"d\", they can be combined directly as shown below. Note that this requires \"c\" and \"d\" to be compatible, which means that the shapes of the inner dataframes should be aligned for every row of your top-level nestedframe."
   ]
  },
  {
   "cell_type": "code",
   "execution_count": null,
   "metadata": {},
   "outputs": [],
   "source": [
    "# Combine \"c\" and \"d\"\n",
    "list_nf[\"nested\"] = list_nf[[\"c\", \"d\"]]\n",
    "list_nf = list_nf.drop(columns=[\"c\", \"d\"])  # drop the original columns\n",
    "list_nf"
   ]
  }
 ],
 "metadata": {
  "kernelspec": {
   "display_name": "lsdb",
   "language": "python",
   "name": "python3"
  },
  "language_info": {
   "codemirror_mode": {
    "name": "ipython",
    "version": 3
   },
   "file_extension": ".py",
   "mimetype": "text/x-python",
   "name": "python",
   "nbconvert_exporter": "python",
   "pygments_lexer": "ipython3",
   "version": "3.12.8"
  }
 },
 "nbformat": 4,
 "nbformat_minor": 2
}
