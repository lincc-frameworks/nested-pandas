{
 "cells": [
  {
   "cell_type": "markdown",
   "id": "8e123e97",
   "metadata": {},
   "source": [
    "# GroupBy for NestedPandas\n",
    "\n",
    "This notebook explores how Pandas' built-in `groupby` interacts with `NestedPandas` structures.\n",
    "<!-- highlight what works, what doesn’t, and why — with clear examples and explanations. -->\n",
    "\n",
    "Because Nested-Pandas extends the Pandas library, native ``pandas.DataFrame.groupby`` works with nested-pandas out of the box in some ways. "
   ]
  },
  {
   "cell_type": "code",
   "execution_count": null,
   "id": "ccb69ebe",
   "metadata": {},
   "outputs": [
    {
     "data": {
      "text/html": [
       "<style type=\"text/css\">\n",
       "</style>\n",
       "<table id=\"T_14aa1\">\n",
       "  <thead>\n",
       "    <tr>\n",
       "      <th class=\"blank level0\" >&nbsp;</th>\n",
       "      <th id=\"T_14aa1_level0_col0\" class=\"col_heading level0 col0\" >a</th>\n",
       "      <th id=\"T_14aa1_level0_col1\" class=\"col_heading level0 col1\" >b</th>\n",
       "      <th id=\"T_14aa1_level0_col2\" class=\"col_heading level0 col2\" >nested</th>\n",
       "      <th id=\"T_14aa1_level0_col3\" class=\"col_heading level0 col3\" >c</th>\n",
       "    </tr>\n",
       "  </thead>\n",
       "  <tbody>\n",
       "    <tr>\n",
       "      <th id=\"T_14aa1_level0_row0\" class=\"row_heading level0 row0\" >0</th>\n",
       "      <td id=\"T_14aa1_row0_col0\" class=\"data row0 col0\" >0.417022</td>\n",
       "      <td id=\"T_14aa1_row0_col1\" class=\"data row0 col1\" >0.184677</td>\n",
       "      <td id=\"T_14aa1_row0_col2\" class=\"data row0 col2\" ><table border=\"1\" class=\"dataframe\">\n",
       "  <thead>\n",
       "    <tr style=\"text-align: right;\">\n",
       "      <th>t</th>\n",
       "      <th>flux</th>\n",
       "      <th>band</th>\n",
       "    </tr>\n",
       "  </thead>\n",
       "  <tbody>\n",
       "    <tr>\n",
       "      <td>8.38389</td>\n",
       "      <td>10.233443</td>\n",
       "      <td>g</td>\n",
       "    </tr>\n",
       "    <tr>\n",
       "      <td><i>+9 rows</i></td>\n",
       "      <td>...</td>\n",
       "      <td>...</td>\n",
       "    </tr>\n",
       "  </tbody>\n",
       "</table></td>\n",
       "      <td id=\"T_14aa1_row0_col3\" class=\"data row0 col3\" >0</td>\n",
       "    </tr>\n",
       "    <tr>\n",
       "      <th id=\"T_14aa1_level0_row1\" class=\"row_heading level0 row1\" >1</th>\n",
       "      <td id=\"T_14aa1_row1_col0\" class=\"data row1 col0\" >0.720324</td>\n",
       "      <td id=\"T_14aa1_row1_col1\" class=\"data row1 col1\" >0.372520</td>\n",
       "      <td id=\"T_14aa1_row1_col2\" class=\"data row1 col2\" ><table border=\"1\" class=\"dataframe\">\n",
       "  <thead>\n",
       "    <tr style=\"text-align: right;\">\n",
       "      <th>t</th>\n",
       "      <th>flux</th>\n",
       "      <th>band</th>\n",
       "    </tr>\n",
       "  </thead>\n",
       "  <tbody>\n",
       "    <tr>\n",
       "      <td>13.70439</td>\n",
       "      <td>41.405599</td>\n",
       "      <td>g</td>\n",
       "    </tr>\n",
       "    <tr>\n",
       "      <td><i>+9 rows</i></td>\n",
       "      <td>...</td>\n",
       "      <td>...</td>\n",
       "    </tr>\n",
       "  </tbody>\n",
       "</table></td>\n",
       "      <td id=\"T_14aa1_row1_col3\" class=\"data row1 col3\" >0</td>\n",
       "    </tr>\n",
       "    <tr>\n",
       "      <th id=\"T_14aa1_level0_row2\" class=\"row_heading level0 row2\" >2</th>\n",
       "      <td id=\"T_14aa1_row2_col0\" class=\"data row2 col0\" >0.000114</td>\n",
       "      <td id=\"T_14aa1_row2_col1\" class=\"data row2 col1\" >0.691121</td>\n",
       "      <td id=\"T_14aa1_row2_col2\" class=\"data row2 col2\" ><table border=\"1\" class=\"dataframe\">\n",
       "  <thead>\n",
       "    <tr style=\"text-align: right;\">\n",
       "      <th>t</th>\n",
       "      <th>flux</th>\n",
       "      <th>band</th>\n",
       "    </tr>\n",
       "  </thead>\n",
       "  <tbody>\n",
       "    <tr>\n",
       "      <td>4.089045</td>\n",
       "      <td>69.440016</td>\n",
       "      <td>g</td>\n",
       "    </tr>\n",
       "    <tr>\n",
       "      <td><i>+9 rows</i></td>\n",
       "      <td>...</td>\n",
       "      <td>...</td>\n",
       "    </tr>\n",
       "  </tbody>\n",
       "</table></td>\n",
       "      <td id=\"T_14aa1_row2_col3\" class=\"data row2 col3\" >1</td>\n",
       "    </tr>\n",
       "    <tr>\n",
       "      <th id=\"T_14aa1_level0_row3\" class=\"row_heading level0 row3\" >3</th>\n",
       "      <td id=\"T_14aa1_row3_col0\" class=\"data row3 col0\" >0.302333</td>\n",
       "      <td id=\"T_14aa1_row3_col1\" class=\"data row3 col1\" >0.793535</td>\n",
       "      <td id=\"T_14aa1_row3_col2\" class=\"data row3 col2\" ><table border=\"1\" class=\"dataframe\">\n",
       "  <thead>\n",
       "    <tr style=\"text-align: right;\">\n",
       "      <th>t</th>\n",
       "      <th>flux</th>\n",
       "      <th>band</th>\n",
       "    </tr>\n",
       "  </thead>\n",
       "  <tbody>\n",
       "    <tr>\n",
       "      <td>17.562349</td>\n",
       "      <td>41.417927</td>\n",
       "      <td>g</td>\n",
       "    </tr>\n",
       "    <tr>\n",
       "      <td><i>+9 rows</i></td>\n",
       "      <td>...</td>\n",
       "      <td>...</td>\n",
       "    </tr>\n",
       "  </tbody>\n",
       "</table></td>\n",
       "      <td id=\"T_14aa1_row3_col3\" class=\"data row3 col3\" >1</td>\n",
       "    </tr>\n",
       "    <tr>\n",
       "      <th id=\"T_14aa1_level0_row4\" class=\"row_heading level0 row4\" >4</th>\n",
       "      <td id=\"T_14aa1_row4_col0\" class=\"data row4 col0\" >0.146756</td>\n",
       "      <td id=\"T_14aa1_row4_col1\" class=\"data row4 col1\" >1.077633</td>\n",
       "      <td id=\"T_14aa1_row4_col2\" class=\"data row4 col2\" ><table border=\"1\" class=\"dataframe\">\n",
       "  <thead>\n",
       "    <tr style=\"text-align: right;\">\n",
       "      <th>t</th>\n",
       "      <th>flux</th>\n",
       "      <th>band</th>\n",
       "    </tr>\n",
       "  </thead>\n",
       "  <tbody>\n",
       "    <tr>\n",
       "      <td>0.547752</td>\n",
       "      <td>4.995346</td>\n",
       "      <td>r</td>\n",
       "    </tr>\n",
       "    <tr>\n",
       "      <td><i>+9 rows</i></td>\n",
       "      <td>...</td>\n",
       "      <td>...</td>\n",
       "    </tr>\n",
       "  </tbody>\n",
       "</table></td>\n",
       "      <td id=\"T_14aa1_row4_col3\" class=\"data row4 col3\" >1</td>\n",
       "    </tr>\n",
       "  </tbody>\n",
       "</table>\n",
       "5 rows x 4 columns"
      ],
      "text/plain": [
       "          a         b                                             nested  c\n",
       "0  0.417022  0.184677  [{t: 8.38389, flux: 10.233443, band: 'g'}; …] ...  0\n",
       "1  0.720324  0.372520  [{t: 13.70439, flux: 41.405599, band: 'g'}; …]...  0\n",
       "2  0.000114  0.691121  [{t: 4.089045, flux: 69.440016, band: 'g'}; …]...  1\n",
       "3  0.302333  0.793535  [{t: 17.562349, flux: 41.417927, band: 'g'}; …...  1\n",
       "4  0.146756  1.077633  [{t: 0.547752, flux: 4.995346, band: 'r'}; …] ...  1"
      ]
     },
     "execution_count": 54,
     "metadata": {},
     "output_type": "execute_result"
    }
   ],
   "source": [
    "# This will be the nf example used in this doc\n",
    "from nested_pandas.datasets import generate_data\n",
    "\n",
    "nf = generate_data(5, 10, seed=1)\n",
    "nf[\"c\"] = [0, 0, 1, 1, 1]\n",
    "nf"
   ]
  },
  {
   "cell_type": "markdown",
   "id": "20933f5a",
   "metadata": {},
   "source": [
    "`groupby` works on *non-nested* columns and will return a `pandas.groupby` object.  \n",
    "Grouping by nested columns does **not** work since nested values are mutable objects so they are unhashable.\n",
    "\n",
    "Use base columns as group keys or extract scalar identifiers from nested data first.\n",
    "\n"
   ]
  },
  {
   "cell_type": "code",
   "execution_count": 55,
   "id": "3a45b96e",
   "metadata": {},
   "outputs": [
    {
     "data": {
      "text/plain": [
       "<pandas.core.groupby.generic.DataFrameGroupBy object at 0x12d466c90>"
      ]
     },
     "execution_count": 55,
     "metadata": {},
     "output_type": "execute_result"
    }
   ],
   "source": [
    "nf.groupby(\"c\") # returns a Pandas GroupBy object"
   ]
  },
  {
   "cell_type": "markdown",
   "id": "a7b19d3d",
   "metadata": {},
   "source": [
    "## Basic Aggregations\n",
    "\n",
    "- Some built-in methods like `count` work but not as expected (view nested column as a single object).\n",
    "- Others (`min`, `max`, `mean`) fail on nested columns.\n",
    "- Interestingly, `describe` will work as expcted with the automatic flattened nested column."
   ]
  },
  {
   "cell_type": "code",
   "execution_count": null,
   "id": "0487e613",
   "metadata": {},
   "outputs": [
    {
     "data": {
      "text/html": [
       "<table border=\"1\" class=\"dataframe\">\n",
       "  <thead>\n",
       "    <tr style=\"text-align: right;\">\n",
       "      <th></th>\n",
       "      <th>a</th>\n",
       "      <th>b</th>\n",
       "      <th>nested</th>\n",
       "    </tr>\n",
       "    <tr>\n",
       "      <th>c</th>\n",
       "      <th></th>\n",
       "      <th></th>\n",
       "      <th></th>\n",
       "    </tr>\n",
       "  </thead>\n",
       "  <tbody>\n",
       "    <tr>\n",
       "      <th>0</th>\n",
       "      <td>2</td>\n",
       "      <td>2</td>\n",
       "      <td>2</td>\n",
       "    </tr>\n",
       "    <tr>\n",
       "      <th>1</th>\n",
       "      <td>3</td>\n",
       "      <td>3</td>\n",
       "      <td>3</td>\n",
       "    </tr>\n",
       "  </tbody>\n",
       "</table>\n",
       "<p>2 rows × 3 columns</p>"
      ],
      "text/plain": [
       "   a  b  nested\n",
       "c              \n",
       "0  2  2       2\n",
       "1  3  3       3"
      ]
     },
     "execution_count": 56,
     "metadata": {},
     "output_type": "execute_result"
    }
   ],
   "source": [
    "# count is viewing nested columns as signle objects\n",
    "nf.groupby(\"c\").count()"
   ]
  },
  {
   "cell_type": "code",
   "execution_count": null,
   "id": "fec633b6",
   "metadata": {},
   "outputs": [],
   "source": [
    "# min/max/mean fail on nested columns\n",
    "nf.groupby(\"c\").min() # will produce error"
   ]
  },
  {
   "cell_type": "code",
   "execution_count": 58,
   "id": "201774f2",
   "metadata": {},
   "outputs": [
    {
     "data": {
      "text/html": [
       "<table border=\"1\" class=\"dataframe\">\n",
       "  <thead>\n",
       "    <tr>\n",
       "      <th></th>\n",
       "      <th colspan=\"8\" halign=\"left\">a</th>\n",
       "      <th colspan=\"8\" halign=\"left\">b</th>\n",
       "      <th colspan=\"8\" halign=\"left\">nested.t</th>\n",
       "      <th colspan=\"8\" halign=\"left\">nested.flux</th>\n",
       "    </tr>\n",
       "    <tr>\n",
       "      <th></th>\n",
       "      <th>count</th>\n",
       "      <th>mean</th>\n",
       "      <th>std</th>\n",
       "      <th>min</th>\n",
       "      <th>25%</th>\n",
       "      <th>50%</th>\n",
       "      <th>75%</th>\n",
       "      <th>max</th>\n",
       "      <th>count</th>\n",
       "      <th>mean</th>\n",
       "      <th>std</th>\n",
       "      <th>min</th>\n",
       "      <th>25%</th>\n",
       "      <th>50%</th>\n",
       "      <th>75%</th>\n",
       "      <th>max</th>\n",
       "      <th>count</th>\n",
       "      <th>mean</th>\n",
       "      <th>std</th>\n",
       "      <th>min</th>\n",
       "      <th>25%</th>\n",
       "      <th>50%</th>\n",
       "      <th>75%</th>\n",
       "      <th>max</th>\n",
       "      <th>count</th>\n",
       "      <th>mean</th>\n",
       "      <th>std</th>\n",
       "      <th>min</th>\n",
       "      <th>25%</th>\n",
       "      <th>50%</th>\n",
       "      <th>75%</th>\n",
       "      <th>max</th>\n",
       "    </tr>\n",
       "    <tr>\n",
       "      <th>c</th>\n",
       "      <th></th>\n",
       "      <th></th>\n",
       "      <th></th>\n",
       "      <th></th>\n",
       "      <th></th>\n",
       "      <th></th>\n",
       "      <th></th>\n",
       "      <th></th>\n",
       "      <th></th>\n",
       "      <th></th>\n",
       "      <th></th>\n",
       "      <th></th>\n",
       "      <th></th>\n",
       "      <th></th>\n",
       "      <th></th>\n",
       "      <th></th>\n",
       "      <th></th>\n",
       "      <th></th>\n",
       "      <th></th>\n",
       "      <th></th>\n",
       "      <th></th>\n",
       "      <th></th>\n",
       "      <th></th>\n",
       "      <th></th>\n",
       "      <th></th>\n",
       "      <th></th>\n",
       "      <th></th>\n",
       "      <th></th>\n",
       "      <th></th>\n",
       "      <th></th>\n",
       "      <th></th>\n",
       "      <th></th>\n",
       "    </tr>\n",
       "  </thead>\n",
       "  <tbody>\n",
       "    <tr>\n",
       "      <th>0</th>\n",
       "      <td>2.0</td>\n",
       "      <td>0.568673</td>\n",
       "      <td>0.214467</td>\n",
       "      <td>0.417022</td>\n",
       "      <td>0.492848</td>\n",
       "      <td>0.568673</td>\n",
       "      <td>0.644499</td>\n",
       "      <td>0.720324</td>\n",
       "      <td>2.0</td>\n",
       "      <td>0.278599</td>\n",
       "      <td>0.132825</td>\n",
       "      <td>0.184677</td>\n",
       "      <td>0.231638</td>\n",
       "      <td>0.278599</td>\n",
       "      <td>0.325560</td>\n",
       "      <td>0.372520</td>\n",
       "      <td>20.0</td>\n",
       "      <td>10.881513</td>\n",
       "      <td>6.240902</td>\n",
       "      <td>0.387339</td>\n",
       "      <td>7.83715</td>\n",
       "      <td>12.445851</td>\n",
       "      <td>15.226208</td>\n",
       "      <td>19.777222</td>\n",
       "      <td>20.0</td>\n",
       "      <td>51.891513</td>\n",
       "      <td>32.136814</td>\n",
       "      <td>1.582124</td>\n",
       "      <td>21.910878</td>\n",
       "      <td>53.147725</td>\n",
       "      <td>88.645112</td>\n",
       "      <td>94.948926</td>\n",
       "    </tr>\n",
       "    <tr>\n",
       "      <th>1</th>\n",
       "      <td>3.0</td>\n",
       "      <td>0.149734</td>\n",
       "      <td>0.151131</td>\n",
       "      <td>0.000114</td>\n",
       "      <td>0.073435</td>\n",
       "      <td>0.146756</td>\n",
       "      <td>0.224544</td>\n",
       "      <td>0.302333</td>\n",
       "      <td>3.0</td>\n",
       "      <td>0.854097</td>\n",
       "      <td>0.200247</td>\n",
       "      <td>0.691121</td>\n",
       "      <td>0.742328</td>\n",
       "      <td>0.793535</td>\n",
       "      <td>0.935584</td>\n",
       "      <td>1.077633</td>\n",
       "      <td>30.0</td>\n",
       "      <td>8.700798</td>\n",
       "      <td>6.111402</td>\n",
       "      <td>0.365766</td>\n",
       "      <td>3.537964</td>\n",
       "      <td>6.070383</td>\n",
       "      <td>13.957988</td>\n",
       "      <td>19.157791</td>\n",
       "      <td>30.0</td>\n",
       "      <td>57.975918</td>\n",
       "      <td>27.028715</td>\n",
       "      <td>0.287033</td>\n",
       "      <td>40.029183</td>\n",
       "      <td>60.184998</td>\n",
       "      <td>75.090985</td>\n",
       "      <td>99.732285</td>\n",
       "    </tr>\n",
       "  </tbody>\n",
       "</table>\n",
       "<p>2 rows × 32 columns</p>"
      ],
      "text/plain": [
       "      a                                                                        \\\n",
       "  count      mean       std       min       25%       50%       75%       max   \n",
       "c                                                                               \n",
       "0   2.0  0.568673  0.214467  0.417022  0.492848  0.568673  0.644499  0.720324   \n",
       "1   3.0  0.149734  0.151131  0.000114  0.073435  0.146756  0.224544  0.302333   \n",
       "\n",
       "      b            ...   nested.t            nested.flux             \\\n",
       "  count      mean  ...        75%        max       count       mean   \n",
       "c                  ...                                                \n",
       "0   2.0  0.278599  ...  15.226208  19.777222        20.0  51.891513   \n",
       "1   3.0  0.854097  ...  13.957988  19.157791        30.0  57.975918   \n",
       "\n",
       "                                                                    \n",
       "         std       min        25%        50%        75%        max  \n",
       "c                                                                   \n",
       "0  32.136814  1.582124  21.910878  53.147725  88.645112  94.948926  \n",
       "1  27.028715  0.287033  40.029183  60.184998  75.090985  99.732285  \n",
       "\n",
       "[2 rows x 32 columns]"
      ]
     },
     "execution_count": 58,
     "metadata": {},
     "output_type": "execute_result"
    }
   ],
   "source": [
    "# describe works as expected with automatic flattened nested column\n",
    "nf.groupby(\"c\").describe()"
   ]
  },
  {
   "cell_type": "markdown",
   "id": "555bdaa3",
   "metadata": {},
   "source": [
    "## Type Preservation\n",
    "Within each group, the object remains accessible as ``NestedFrame`` object and the nested columns remain ``NestedSeries``.\n",
    "\n",
    "We can check this by applying a custom function on our 2-group `groupby` object:"
   ]
  },
  {
   "cell_type": "code",
   "execution_count": 59,
   "id": "6a02ee47",
   "metadata": {},
   "outputs": [
    {
     "name": "stdout",
     "output_type": "stream",
     "text": [
      "Group DataFrame Type: <class 'nested_pandas.nestedframe.core.NestedFrame'>\n",
      "Nested Column Type: <class 'nested_pandas.series.nestedseries.NestedSeries'>\n",
      "\n",
      "Group DataFrame Type: <class 'nested_pandas.nestedframe.core.NestedFrame'>\n",
      "Nested Column Type: <class 'nested_pandas.series.nestedseries.NestedSeries'>\n",
      "\n"
     ]
    },
    {
     "data": {
      "text/html": [
       "<table border=\"1\" class=\"dataframe\">\n",
       "  <thead>\n",
       "    <tr style=\"text-align: right;\">\n",
       "      <th></th>\n",
       "    </tr>\n",
       "  </thead>\n",
       "  <tbody>\n",
       "  </tbody>\n",
       "</table>\n",
       "<p>0 rows × 0 columns</p>"
      ],
      "text/plain": [
       "Empty NestedFrame\n",
       "Columns: []\n",
       "Index: []"
      ]
     },
     "execution_count": 59,
     "metadata": {},
     "output_type": "execute_result"
    }
   ],
   "source": [
    "# check the type\n",
    "def type_check(df):\n",
    "    print(\"Group DataFrame Type:\", type(df))\n",
    "    print(\"Nested Column Type:\", type(df[\"nested\"]))\n",
    "    print()\n",
    "    # return df\n",
    "\n",
    "nf.groupby(\"c\").apply(type_check, include_groups=False)"
   ]
  },
  {
   "cell_type": "markdown",
   "id": "117ad069",
   "metadata": {},
   "source": [
    "An important note is that when trying to accsss the row of each group with .iloc[], **numeric row-wise indexing** and **slice-based indexing** will output different types."
   ]
  },
  {
   "cell_type": "markdown",
   "id": "197f26e9",
   "metadata": {},
   "source": [
    "For `NestedFrame`, when we try to access the first row, row-wise indexing (.iloc[0]) will collapse the result in to 1-D `pandas.Series` with the nested column stored as a `DataFrame`. However, slice-based indexing (.iloc[0:1]) will preserve the nested structure and still output the row as a `NestedFrame` with nested column still being `NestedSeries`."
   ]
  },
  {
   "cell_type": "code",
   "execution_count": 60,
   "id": "6639d290",
   "metadata": {},
   "outputs": [
    {
     "name": "stdout",
     "output_type": "stream",
     "text": [
      "df.iloc[0]:  <class 'pandas.core.series.Series'>\n",
      "df.iloc[0:1]: <class 'nested_pandas.nestedframe.core.NestedFrame'>\n",
      "\n",
      " Accessing nested column for both ways:\n",
      "df.iloc[0] nested column: <class 'pandas.core.frame.DataFrame'>\n",
      "df.iloc[0:1] nested column: <class 'nested_pandas.series.nestedseries.NestedSeries'>\n",
      "\n",
      "df.iloc[0]:  <class 'pandas.core.series.Series'>\n",
      "df.iloc[0:1]: <class 'nested_pandas.nestedframe.core.NestedFrame'>\n",
      "\n",
      " Accessing nested column for both ways:\n",
      "df.iloc[0] nested column: <class 'pandas.core.frame.DataFrame'>\n",
      "df.iloc[0:1] nested column: <class 'nested_pandas.series.nestedseries.NestedSeries'>\n",
      "\n"
     ]
    },
    {
     "data": {
      "text/html": [
       "<table border=\"1\" class=\"dataframe\">\n",
       "  <thead>\n",
       "    <tr style=\"text-align: right;\">\n",
       "      <th></th>\n",
       "    </tr>\n",
       "  </thead>\n",
       "  <tbody>\n",
       "  </tbody>\n",
       "</table>\n",
       "<p>0 rows × 0 columns</p>"
      ],
      "text/plain": [
       "Empty NestedFrame\n",
       "Columns: []\n",
       "Index: []"
      ]
     },
     "execution_count": 60,
     "metadata": {},
     "output_type": "execute_result"
    }
   ],
   "source": [
    "# check the full row type\n",
    "def row_type_check(df):\n",
    "    print(\"df.iloc[0]: \", type(df.iloc[0]))\n",
    "    print('df.iloc[0:1]:', type(df.iloc[0:1]))\n",
    "    print(\"\\n Accessing nested column for both ways:\")\n",
    "    print('df.iloc[0] nested column:', type(df.iloc[0][\"nested\"]))\n",
    "    print('df.iloc[0:1] nested column:', type(df.iloc[0:1][\"nested\"]))\n",
    "    print()\n",
    "    # return df\n",
    "\n",
    "nf.groupby(\"c\").apply(row_type_check, include_groups=False)\n"
   ]
  },
  {
   "cell_type": "markdown",
   "id": "ff198f4f",
   "metadata": {},
   "source": [
    "For nested column with type `NestedSeries`, accessing a single row from `df[\"nested\"]` will either output a `pandas.DataFrame` (.iloc[0]) or a `pandas.Series` (.iloc[0:1]).\n",
    "\n",
    "Note that outside groupby, `df[\"nested\"].iloc[0]` is stored as a `pandas.DataFrame`, which is expected. \n",
    "\n",
    "<!-- (NestedPandas stores the nested frames as serialized DataFrames?) -->"
   ]
  },
  {
   "cell_type": "code",
   "execution_count": 61,
   "id": "443447a1",
   "metadata": {},
   "outputs": [
    {
     "name": "stdout",
     "output_type": "stream",
     "text": [
      "df[\"nested\"].iloc[0]: <class 'pandas.core.frame.DataFrame'>\n",
      "df[\"nested\"].iloc[0:1]: <class 'pandas.core.series.Series'>\n",
      "\n",
      "df[\"nested\"].iloc[0]: <class 'pandas.core.frame.DataFrame'>\n",
      "df[\"nested\"].iloc[0:1]: <class 'pandas.core.series.Series'>\n",
      "\n"
     ]
    },
    {
     "data": {
      "text/html": [
       "<table border=\"1\" class=\"dataframe\">\n",
       "  <thead>\n",
       "    <tr style=\"text-align: right;\">\n",
       "      <th></th>\n",
       "    </tr>\n",
       "  </thead>\n",
       "  <tbody>\n",
       "  </tbody>\n",
       "</table>\n",
       "<p>0 rows × 0 columns</p>"
      ],
      "text/plain": [
       "Empty NestedFrame\n",
       "Columns: []\n",
       "Index: []"
      ]
     },
     "execution_count": 61,
     "metadata": {},
     "output_type": "execute_result"
    }
   ],
   "source": [
    "# check the nested row type\n",
    "def nested_row_type_check(df):\n",
    "    print('df[\"nested\"].iloc[0]:', type(df[\"nested\"].iloc[0]))\n",
    "    print('df[\"nested\"].iloc[0:1]:', type(df[\"nested\"].iloc[0:1]))\n",
    "    print()\n",
    "    # return df\n",
    "\n",
    "nf.groupby(\"c\").apply(nested_row_type_check, include_groups=False)"
   ]
  },
  {
   "cell_type": "markdown",
   "id": "684b697c",
   "metadata": {},
   "source": [
    "Other operations will preserve the nested structure in general, but if you need to work with the contents of a nested column directly, you may need to flatten it first using `.nest.to_flat()`."
   ]
  },
  {
   "cell_type": "markdown",
   "id": "a4ff3a6b",
   "metadata": {},
   "source": [
    "## Custom Functions with `apply`\n",
    "\n",
    "`.apply()` for nested operations is supported natively. It generally works if the function flattens or use index slicing to ensure matching type for operations. \n",
    "\n",
    "Some potential exmaples:"
   ]
  },
  {
   "cell_type": "code",
   "execution_count": 62,
   "id": "023b771c",
   "metadata": {},
   "outputs": [
    {
     "data": {
      "text/html": [
       "<div>\n",
       "<style scoped>\n",
       "    .dataframe tbody tr th:only-of-type {\n",
       "        vertical-align: middle;\n",
       "    }\n",
       "\n",
       "    .dataframe tbody tr th {\n",
       "        vertical-align: top;\n",
       "    }\n",
       "\n",
       "    .dataframe thead th {\n",
       "        text-align: right;\n",
       "    }\n",
       "</style>\n",
       "<table border=\"1\" class=\"dataframe\">\n",
       "  <thead>\n",
       "    <tr style=\"text-align: right;\">\n",
       "      <th></th>\n",
       "      <th></th>\n",
       "      <th>t</th>\n",
       "      <th>flux</th>\n",
       "      <th>band</th>\n",
       "    </tr>\n",
       "    <tr>\n",
       "      <th>c</th>\n",
       "      <th></th>\n",
       "      <th></th>\n",
       "      <th></th>\n",
       "      <th></th>\n",
       "    </tr>\n",
       "  </thead>\n",
       "  <tbody>\n",
       "    <tr>\n",
       "      <th rowspan=\"2\" valign=\"top\">0</th>\n",
       "      <th>0</th>\n",
       "      <td>8.38389</td>\n",
       "      <td>10.233443</td>\n",
       "      <td>g</td>\n",
       "    </tr>\n",
       "    <tr>\n",
       "      <th>0</th>\n",
       "      <td>13.40935</td>\n",
       "      <td>53.589641</td>\n",
       "      <td>g</td>\n",
       "    </tr>\n",
       "    <tr>\n",
       "      <th>...</th>\n",
       "      <th>...</th>\n",
       "      <td>...</td>\n",
       "      <td>...</td>\n",
       "      <td>...</td>\n",
       "    </tr>\n",
       "    <tr>\n",
       "      <th rowspan=\"2\" valign=\"top\">1</th>\n",
       "      <th>4</th>\n",
       "      <td>9.831463</td>\n",
       "      <td>90.853515</td>\n",
       "      <td>r</td>\n",
       "    </tr>\n",
       "    <tr>\n",
       "      <th>4</th>\n",
       "      <td>13.995167</td>\n",
       "      <td>99.732285</td>\n",
       "      <td>g</td>\n",
       "    </tr>\n",
       "  </tbody>\n",
       "</table>\n",
       "<p>50 rows × 3 columns</p>\n",
       "</div>"
      ],
      "text/plain": [
       "             t       flux band\n",
       "c                             \n",
       "0 0    8.38389  10.233443    g\n",
       "  0   13.40935  53.589641    g\n",
       "..         ...        ...  ...\n",
       "1 4   9.831463  90.853515    r\n",
       "  4  13.995167  99.732285    g\n",
       "\n",
       "[50 rows x 3 columns]"
      ]
     },
     "execution_count": 62,
     "metadata": {},
     "output_type": "execute_result"
    }
   ],
   "source": [
    "# custom function to flatten nested column\n",
    "def flatten_nested(df):\n",
    "    return df[\"nested\"].nest.to_flat()\n",
    "\n",
    "nf.groupby(\"c\").apply(flatten_nested, include_groups=False)\n"
   ]
  },
  {
   "cell_type": "code",
   "execution_count": 63,
   "id": "4b0d063f",
   "metadata": {},
   "outputs": [
    {
     "data": {
      "text/html": [
       "<table border=\"1\" class=\"dataframe\">\n",
       "  <thead>\n",
       "    <tr style=\"text-align: right;\">\n",
       "      <th></th>\n",
       "      <th>mean_flux</th>\n",
       "      <th>mean_t</th>\n",
       "    </tr>\n",
       "    <tr>\n",
       "      <th>c</th>\n",
       "      <th></th>\n",
       "      <th></th>\n",
       "    </tr>\n",
       "  </thead>\n",
       "  <tbody>\n",
       "    <tr>\n",
       "      <th>0</th>\n",
       "      <td>51.891513</td>\n",
       "      <td>10.881513</td>\n",
       "    </tr>\n",
       "    <tr>\n",
       "      <th>1</th>\n",
       "      <td>57.975918</td>\n",
       "      <td>8.700798</td>\n",
       "    </tr>\n",
       "  </tbody>\n",
       "</table>\n",
       "<p>2 rows × 2 columns</p>"
      ],
      "text/plain": [
       "   mean_flux     mean_t\n",
       "c                      \n",
       "0  51.891513  10.881513\n",
       "1  57.975918   8.700798"
      ]
     },
     "execution_count": 63,
     "metadata": {},
     "output_type": "execute_result"
    }
   ],
   "source": [
    "import pandas as pd\n",
    "\n",
    "# custom function to perform aggregations on flattened nested column\n",
    "def mean_flux(df):\n",
    "    flat = df[\"nested\"].nest.to_flat()\n",
    "    return pd.Series({\n",
    "        \"mean_flux\": flat[\"flux\"].mean(),\n",
    "        \"mean_t\": flat[\"t\"].mean()\n",
    "    })\n",
    "\n",
    "nf.groupby(\"c\").apply(mean_flux, include_groups=False)\n",
    "\n"
   ]
  },
  {
   "cell_type": "markdown",
   "id": "63da5da8",
   "metadata": {},
   "source": [
    "## Summary\n",
    "- Always group by **base columns**, not nested columns.  \n",
    "- Use **slice-based indexing** (.iloc[0:1]) to preserve nested types.\n",
    "- Use **.nest.to_flat()** to flatten a nested column when needed for numerical or aggregating operations.\n",
    "\n",
    "- Nested structures are designed to reduce the need for expensive groupby operations by allowing data to stay organized hierarchically. However, when grouping is necessary, pandas’ groupby still works with nested-pandas and maintains type consistency."
   ]
  }
 ],
 "metadata": {
  "kernelspec": {
   "display_name": "Python 3 (ipykernel)",
   "language": "python",
   "name": "python3"
  },
  "language_info": {
   "codemirror_mode": {
    "name": "ipython",
    "version": 3
   },
   "file_extension": ".py",
   "mimetype": "text/x-python",
   "name": "python",
   "nbconvert_exporter": "python",
   "pygments_lexer": "ipython3",
   "version": "3.13.8"
  }
 },
 "nbformat": 4,
 "nbformat_minor": 5
}
